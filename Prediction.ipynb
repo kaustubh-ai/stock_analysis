{
  "nbformat": 4,
  "nbformat_minor": 0,
  "metadata": {
    "kernelspec": {
      "name": "python3",
      "display_name": "Python 3"
    },
    "language_info": {
      "codemirror_mode": {
        "name": "ipython",
        "version": 3
      },
      "file_extension": ".py",
      "mimetype": "text/x-python",
      "name": "python",
      "nbconvert_exporter": "python",
      "pygments_lexer": "ipython3",
      "version": "3.6.8"
    },
    "colab": {
      "name": "StockPricePrediction_v4a_lstm.ipynb",
      "provenance": [],
      "collapsed_sections": []
    },
    "accelerator": "GPU",
    "widgets": {
      "application/vnd.jupyter.widget-state+json": {
        "476d71769912409f8b880bfb7f6309fb": {
          "model_module": "@jupyter-widgets/controls",
          "model_name": "HBoxModel",
          "state": {
            "_view_name": "HBoxView",
            "_dom_classes": [],
            "_model_name": "HBoxModel",
            "_view_module": "@jupyter-widgets/controls",
            "_model_module_version": "1.5.0",
            "_view_count": null,
            "_view_module_version": "1.5.0",
            "box_style": "",
            "layout": "IPY_MODEL_ac0f45b4dfa4493f8ad78f4ec3466bbe",
            "_model_module": "@jupyter-widgets/controls",
            "children": [
              "IPY_MODEL_80ff66948a0c451a81468e18ed003528",
              "IPY_MODEL_86af481fb2f241fab97f29f476a9d748"
            ]
          }
        },
        "ac0f45b4dfa4493f8ad78f4ec3466bbe": {
          "model_module": "@jupyter-widgets/base",
          "model_name": "LayoutModel",
          "state": {
            "_view_name": "LayoutView",
            "grid_template_rows": null,
            "right": null,
            "justify_content": null,
            "_view_module": "@jupyter-widgets/base",
            "overflow": null,
            "_model_module_version": "1.2.0",
            "_view_count": null,
            "flex_flow": null,
            "width": null,
            "min_width": null,
            "border": null,
            "align_items": null,
            "bottom": null,
            "_model_module": "@jupyter-widgets/base",
            "top": null,
            "grid_column": null,
            "overflow_y": null,
            "overflow_x": null,
            "grid_auto_flow": null,
            "grid_area": null,
            "grid_template_columns": null,
            "flex": null,
            "_model_name": "LayoutModel",
            "justify_items": null,
            "grid_row": null,
            "max_height": null,
            "align_content": null,
            "visibility": null,
            "align_self": null,
            "height": null,
            "min_height": null,
            "padding": null,
            "grid_auto_rows": null,
            "grid_gap": null,
            "max_width": null,
            "order": null,
            "_view_module_version": "1.2.0",
            "grid_template_areas": null,
            "object_position": null,
            "object_fit": null,
            "grid_auto_columns": null,
            "margin": null,
            "display": null,
            "left": null
          }
        },
        "80ff66948a0c451a81468e18ed003528": {
          "model_module": "@jupyter-widgets/controls",
          "model_name": "IntProgressModel",
          "state": {
            "_view_name": "ProgressView",
            "style": "IPY_MODEL_8f8b736070fd46689101be362e1af4bd",
            "_dom_classes": [],
            "description": "",
            "_model_name": "IntProgressModel",
            "bar_style": "success",
            "max": 10,
            "_view_module": "@jupyter-widgets/controls",
            "_model_module_version": "1.5.0",
            "value": 10,
            "_view_count": null,
            "_view_module_version": "1.5.0",
            "orientation": "horizontal",
            "min": 0,
            "description_tooltip": null,
            "_model_module": "@jupyter-widgets/controls",
            "layout": "IPY_MODEL_c8369be46bad4931aaf52564c46797fa"
          }
        },
        "86af481fb2f241fab97f29f476a9d748": {
          "model_module": "@jupyter-widgets/controls",
          "model_name": "HTMLModel",
          "state": {
            "_view_name": "HTMLView",
            "style": "IPY_MODEL_474106af21354a0a93576c4761af6496",
            "_dom_classes": [],
            "description": "",
            "_model_name": "HTMLModel",
            "placeholder": "​",
            "_view_module": "@jupyter-widgets/controls",
            "_model_module_version": "1.5.0",
            "value": "100% 10/10 [13:58&lt;00:00, 107.78s/it]",
            "_view_count": null,
            "_view_module_version": "1.5.0",
            "description_tooltip": null,
            "_model_module": "@jupyter-widgets/controls",
            "layout": "IPY_MODEL_68056c4a693b4c36b11675736956899a"
          }
        },
        "8f8b736070fd46689101be362e1af4bd": {
          "model_module": "@jupyter-widgets/controls",
          "model_name": "ProgressStyleModel",
          "state": {
            "_view_name": "StyleView",
            "_model_name": "ProgressStyleModel",
            "description_width": "",
            "_view_module": "@jupyter-widgets/base",
            "_model_module_version": "1.5.0",
            "_view_count": null,
            "_view_module_version": "1.2.0",
            "bar_color": null,
            "_model_module": "@jupyter-widgets/controls"
          }
        },
        "c8369be46bad4931aaf52564c46797fa": {
          "model_module": "@jupyter-widgets/base",
          "model_name": "LayoutModel",
          "state": {
            "_view_name": "LayoutView",
            "grid_template_rows": null,
            "right": null,
            "justify_content": null,
            "_view_module": "@jupyter-widgets/base",
            "overflow": null,
            "_model_module_version": "1.2.0",
            "_view_count": null,
            "flex_flow": null,
            "width": null,
            "min_width": null,
            "border": null,
            "align_items": null,
            "bottom": null,
            "_model_module": "@jupyter-widgets/base",
            "top": null,
            "grid_column": null,
            "overflow_y": null,
            "overflow_x": null,
            "grid_auto_flow": null,
            "grid_area": null,
            "grid_template_columns": null,
            "flex": null,
            "_model_name": "LayoutModel",
            "justify_items": null,
            "grid_row": null,
            "max_height": null,
            "align_content": null,
            "visibility": null,
            "align_self": null,
            "height": null,
            "min_height": null,
            "padding": null,
            "grid_auto_rows": null,
            "grid_gap": null,
            "max_width": null,
            "order": null,
            "_view_module_version": "1.2.0",
            "grid_template_areas": null,
            "object_position": null,
            "object_fit": null,
            "grid_auto_columns": null,
            "margin": null,
            "display": null,
            "left": null
          }
        },
        "474106af21354a0a93576c4761af6496": {
          "model_module": "@jupyter-widgets/controls",
          "model_name": "DescriptionStyleModel",
          "state": {
            "_view_name": "StyleView",
            "_model_name": "DescriptionStyleModel",
            "description_width": "",
            "_view_module": "@jupyter-widgets/base",
            "_model_module_version": "1.5.0",
            "_view_count": null,
            "_view_module_version": "1.2.0",
            "_model_module": "@jupyter-widgets/controls"
          }
        },
        "68056c4a693b4c36b11675736956899a": {
          "model_module": "@jupyter-widgets/base",
          "model_name": "LayoutModel",
          "state": {
            "_view_name": "LayoutView",
            "grid_template_rows": null,
            "right": null,
            "justify_content": null,
            "_view_module": "@jupyter-widgets/base",
            "overflow": null,
            "_model_module_version": "1.2.0",
            "_view_count": null,
            "flex_flow": null,
            "width": null,
            "min_width": null,
            "border": null,
            "align_items": null,
            "bottom": null,
            "_model_module": "@jupyter-widgets/base",
            "top": null,
            "grid_column": null,
            "overflow_y": null,
            "overflow_x": null,
            "grid_auto_flow": null,
            "grid_area": null,
            "grid_template_columns": null,
            "flex": null,
            "_model_name": "LayoutModel",
            "justify_items": null,
            "grid_row": null,
            "max_height": null,
            "align_content": null,
            "visibility": null,
            "align_self": null,
            "height": null,
            "min_height": null,
            "padding": null,
            "grid_auto_rows": null,
            "grid_gap": null,
            "max_width": null,
            "order": null,
            "_view_module_version": "1.2.0",
            "grid_template_areas": null,
            "object_position": null,
            "object_fit": null,
            "grid_auto_columns": null,
            "margin": null,
            "display": null,
            "left": null
          }
        },
        "cf61b9d8e72248e8b47e92159ebd5c3b": {
          "model_module": "@jupyter-widgets/controls",
          "model_name": "HBoxModel",
          "state": {
            "_view_name": "HBoxView",
            "_dom_classes": [],
            "_model_name": "HBoxModel",
            "_view_module": "@jupyter-widgets/controls",
            "_model_module_version": "1.5.0",
            "_view_count": null,
            "_view_module_version": "1.5.0",
            "box_style": "",
            "layout": "IPY_MODEL_eb5fe42019c9462cbc0551a99edb026f",
            "_model_module": "@jupyter-widgets/controls",
            "children": [
              "IPY_MODEL_9e8a49adf4cb4210a80c65c34eda18eb",
              "IPY_MODEL_2d25e1d08783410892ce06758036d5a1"
            ]
          }
        },
        "eb5fe42019c9462cbc0551a99edb026f": {
          "model_module": "@jupyter-widgets/base",
          "model_name": "LayoutModel",
          "state": {
            "_view_name": "LayoutView",
            "grid_template_rows": null,
            "right": null,
            "justify_content": null,
            "_view_module": "@jupyter-widgets/base",
            "overflow": null,
            "_model_module_version": "1.2.0",
            "_view_count": null,
            "flex_flow": null,
            "width": null,
            "min_width": null,
            "border": null,
            "align_items": null,
            "bottom": null,
            "_model_module": "@jupyter-widgets/base",
            "top": null,
            "grid_column": null,
            "overflow_y": null,
            "overflow_x": null,
            "grid_auto_flow": null,
            "grid_area": null,
            "grid_template_columns": null,
            "flex": null,
            "_model_name": "LayoutModel",
            "justify_items": null,
            "grid_row": null,
            "max_height": null,
            "align_content": null,
            "visibility": null,
            "align_self": null,
            "height": null,
            "min_height": null,
            "padding": null,
            "grid_auto_rows": null,
            "grid_gap": null,
            "max_width": null,
            "order": null,
            "_view_module_version": "1.2.0",
            "grid_template_areas": null,
            "object_position": null,
            "object_fit": null,
            "grid_auto_columns": null,
            "margin": null,
            "display": null,
            "left": null
          }
        },
        "9e8a49adf4cb4210a80c65c34eda18eb": {
          "model_module": "@jupyter-widgets/controls",
          "model_name": "IntProgressModel",
          "state": {
            "_view_name": "ProgressView",
            "style": "IPY_MODEL_45f4c73b63994192a349cda7b37a2df1",
            "_dom_classes": [],
            "description": "",
            "_model_name": "IntProgressModel",
            "bar_style": "success",
            "max": 2,
            "_view_module": "@jupyter-widgets/controls",
            "_model_module_version": "1.5.0",
            "value": 2,
            "_view_count": null,
            "_view_module_version": "1.5.0",
            "orientation": "horizontal",
            "min": 0,
            "description_tooltip": null,
            "_model_module": "@jupyter-widgets/controls",
            "layout": "IPY_MODEL_c2aab409271149bba0f77e33eacf5653"
          }
        },
        "2d25e1d08783410892ce06758036d5a1": {
          "model_module": "@jupyter-widgets/controls",
          "model_name": "HTMLModel",
          "state": {
            "_view_name": "HTMLView",
            "style": "IPY_MODEL_61f10e79478341b686ed6cb5412e5190",
            "_dom_classes": [],
            "description": "",
            "_model_name": "HTMLModel",
            "placeholder": "​",
            "_view_module": "@jupyter-widgets/controls",
            "_model_module_version": "1.5.0",
            "value": "100% 2/2 [16:37&lt;00:00, 449.69s/it]",
            "_view_count": null,
            "_view_module_version": "1.5.0",
            "description_tooltip": null,
            "_model_module": "@jupyter-widgets/controls",
            "layout": "IPY_MODEL_dd35dfc0f4154b9e953a1135eec087cf"
          }
        },
        "45f4c73b63994192a349cda7b37a2df1": {
          "model_module": "@jupyter-widgets/controls",
          "model_name": "ProgressStyleModel",
          "state": {
            "_view_name": "StyleView",
            "_model_name": "ProgressStyleModel",
            "description_width": "",
            "_view_module": "@jupyter-widgets/base",
            "_model_module_version": "1.5.0",
            "_view_count": null,
            "_view_module_version": "1.2.0",
            "bar_color": null,
            "_model_module": "@jupyter-widgets/controls"
          }
        },
        "c2aab409271149bba0f77e33eacf5653": {
          "model_module": "@jupyter-widgets/base",
          "model_name": "LayoutModel",
          "state": {
            "_view_name": "LayoutView",
            "grid_template_rows": null,
            "right": null,
            "justify_content": null,
            "_view_module": "@jupyter-widgets/base",
            "overflow": null,
            "_model_module_version": "1.2.0",
            "_view_count": null,
            "flex_flow": null,
            "width": null,
            "min_width": null,
            "border": null,
            "align_items": null,
            "bottom": null,
            "_model_module": "@jupyter-widgets/base",
            "top": null,
            "grid_column": null,
            "overflow_y": null,
            "overflow_x": null,
            "grid_auto_flow": null,
            "grid_area": null,
            "grid_template_columns": null,
            "flex": null,
            "_model_name": "LayoutModel",
            "justify_items": null,
            "grid_row": null,
            "max_height": null,
            "align_content": null,
            "visibility": null,
            "align_self": null,
            "height": null,
            "min_height": null,
            "padding": null,
            "grid_auto_rows": null,
            "grid_gap": null,
            "max_width": null,
            "order": null,
            "_view_module_version": "1.2.0",
            "grid_template_areas": null,
            "object_position": null,
            "object_fit": null,
            "grid_auto_columns": null,
            "margin": null,
            "display": null,
            "left": null
          }
        },
        "61f10e79478341b686ed6cb5412e5190": {
          "model_module": "@jupyter-widgets/controls",
          "model_name": "DescriptionStyleModel",
          "state": {
            "_view_name": "StyleView",
            "_model_name": "DescriptionStyleModel",
            "description_width": "",
            "_view_module": "@jupyter-widgets/base",
            "_model_module_version": "1.5.0",
            "_view_count": null,
            "_view_module_version": "1.2.0",
            "_model_module": "@jupyter-widgets/controls"
          }
        },
        "dd35dfc0f4154b9e953a1135eec087cf": {
          "model_module": "@jupyter-widgets/base",
          "model_name": "LayoutModel",
          "state": {
            "_view_name": "LayoutView",
            "grid_template_rows": null,
            "right": null,
            "justify_content": null,
            "_view_module": "@jupyter-widgets/base",
            "overflow": null,
            "_model_module_version": "1.2.0",
            "_view_count": null,
            "flex_flow": null,
            "width": null,
            "min_width": null,
            "border": null,
            "align_items": null,
            "bottom": null,
            "_model_module": "@jupyter-widgets/base",
            "top": null,
            "grid_column": null,
            "overflow_y": null,
            "overflow_x": null,
            "grid_auto_flow": null,
            "grid_area": null,
            "grid_template_columns": null,
            "flex": null,
            "_model_name": "LayoutModel",
            "justify_items": null,
            "grid_row": null,
            "max_height": null,
            "align_content": null,
            "visibility": null,
            "align_self": null,
            "height": null,
            "min_height": null,
            "padding": null,
            "grid_auto_rows": null,
            "grid_gap": null,
            "max_width": null,
            "order": null,
            "_view_module_version": "1.2.0",
            "grid_template_areas": null,
            "object_position": null,
            "object_fit": null,
            "grid_auto_columns": null,
            "margin": null,
            "display": null,
            "left": null
          }
        },
        "f52aa38f0d0d47f2bb648314f543e726": {
          "model_module": "@jupyter-widgets/controls",
          "model_name": "HBoxModel",
          "state": {
            "_view_name": "HBoxView",
            "_dom_classes": [],
            "_model_name": "HBoxModel",
            "_view_module": "@jupyter-widgets/controls",
            "_model_module_version": "1.5.0",
            "_view_count": null,
            "_view_module_version": "1.5.0",
            "box_style": "",
            "layout": "IPY_MODEL_bba861c4683540a2ac4ee129713a2b25",
            "_model_module": "@jupyter-widgets/controls",
            "children": [
              "IPY_MODEL_1f142fbab1574b63aa416ebde3f148f2",
              "IPY_MODEL_d74c3cb4d6e748ef9098f2ea43860631"
            ]
          }
        },
        "bba861c4683540a2ac4ee129713a2b25": {
          "model_module": "@jupyter-widgets/base",
          "model_name": "LayoutModel",
          "state": {
            "_view_name": "LayoutView",
            "grid_template_rows": null,
            "right": null,
            "justify_content": null,
            "_view_module": "@jupyter-widgets/base",
            "overflow": null,
            "_model_module_version": "1.2.0",
            "_view_count": null,
            "flex_flow": null,
            "width": null,
            "min_width": null,
            "border": null,
            "align_items": null,
            "bottom": null,
            "_model_module": "@jupyter-widgets/base",
            "top": null,
            "grid_column": null,
            "overflow_y": null,
            "overflow_x": null,
            "grid_auto_flow": null,
            "grid_area": null,
            "grid_template_columns": null,
            "flex": null,
            "_model_name": "LayoutModel",
            "justify_items": null,
            "grid_row": null,
            "max_height": null,
            "align_content": null,
            "visibility": null,
            "align_self": null,
            "height": null,
            "min_height": null,
            "padding": null,
            "grid_auto_rows": null,
            "grid_gap": null,
            "max_width": null,
            "order": null,
            "_view_module_version": "1.2.0",
            "grid_template_areas": null,
            "object_position": null,
            "object_fit": null,
            "grid_auto_columns": null,
            "margin": null,
            "display": null,
            "left": null
          }
        },
        "1f142fbab1574b63aa416ebde3f148f2": {
          "model_module": "@jupyter-widgets/controls",
          "model_name": "IntProgressModel",
          "state": {
            "_view_name": "ProgressView",
            "style": "IPY_MODEL_5f4da8b7478846b3899ec79c81723f48",
            "_dom_classes": [],
            "description": "",
            "_model_name": "IntProgressModel",
            "bar_style": "success",
            "max": 3,
            "_view_module": "@jupyter-widgets/controls",
            "_model_module_version": "1.5.0",
            "value": 3,
            "_view_count": null,
            "_view_module_version": "1.5.0",
            "orientation": "horizontal",
            "min": 0,
            "description_tooltip": null,
            "_model_module": "@jupyter-widgets/controls",
            "layout": "IPY_MODEL_196ac25f29624c27b57879bf16519d60"
          }
        },
        "d74c3cb4d6e748ef9098f2ea43860631": {
          "model_module": "@jupyter-widgets/controls",
          "model_name": "HTMLModel",
          "state": {
            "_view_name": "HTMLView",
            "style": "IPY_MODEL_3775340734ba4813a3376d7b0f47caf6",
            "_dom_classes": [],
            "description": "",
            "_model_name": "HTMLModel",
            "placeholder": "​",
            "_view_module": "@jupyter-widgets/controls",
            "_model_module_version": "1.5.0",
            "value": "100% 3/3 [06:16&lt;00:00, 142.55s/it]",
            "_view_count": null,
            "_view_module_version": "1.5.0",
            "description_tooltip": null,
            "_model_module": "@jupyter-widgets/controls",
            "layout": "IPY_MODEL_bd6742da050b40e08f853509a96db34f"
          }
        },
        "5f4da8b7478846b3899ec79c81723f48": {
          "model_module": "@jupyter-widgets/controls",
          "model_name": "ProgressStyleModel",
          "state": {
            "_view_name": "StyleView",
            "_model_name": "ProgressStyleModel",
            "description_width": "",
            "_view_module": "@jupyter-widgets/base",
            "_model_module_version": "1.5.0",
            "_view_count": null,
            "_view_module_version": "1.2.0",
            "bar_color": null,
            "_model_module": "@jupyter-widgets/controls"
          }
        },
        "196ac25f29624c27b57879bf16519d60": {
          "model_module": "@jupyter-widgets/base",
          "model_name": "LayoutModel",
          "state": {
            "_view_name": "LayoutView",
            "grid_template_rows": null,
            "right": null,
            "justify_content": null,
            "_view_module": "@jupyter-widgets/base",
            "overflow": null,
            "_model_module_version": "1.2.0",
            "_view_count": null,
            "flex_flow": null,
            "width": null,
            "min_width": null,
            "border": null,
            "align_items": null,
            "bottom": null,
            "_model_module": "@jupyter-widgets/base",
            "top": null,
            "grid_column": null,
            "overflow_y": null,
            "overflow_x": null,
            "grid_auto_flow": null,
            "grid_area": null,
            "grid_template_columns": null,
            "flex": null,
            "_model_name": "LayoutModel",
            "justify_items": null,
            "grid_row": null,
            "max_height": null,
            "align_content": null,
            "visibility": null,
            "align_self": null,
            "height": null,
            "min_height": null,
            "padding": null,
            "grid_auto_rows": null,
            "grid_gap": null,
            "max_width": null,
            "order": null,
            "_view_module_version": "1.2.0",
            "grid_template_areas": null,
            "object_position": null,
            "object_fit": null,
            "grid_auto_columns": null,
            "margin": null,
            "display": null,
            "left": null
          }
        },
        "3775340734ba4813a3376d7b0f47caf6": {
          "model_module": "@jupyter-widgets/controls",
          "model_name": "DescriptionStyleModel",
          "state": {
            "_view_name": "StyleView",
            "_model_name": "DescriptionStyleModel",
            "description_width": "",
            "_view_module": "@jupyter-widgets/base",
            "_model_module_version": "1.5.0",
            "_view_count": null,
            "_view_module_version": "1.2.0",
            "_model_module": "@jupyter-widgets/controls"
          }
        },
        "bd6742da050b40e08f853509a96db34f": {
          "model_module": "@jupyter-widgets/base",
          "model_name": "LayoutModel",
          "state": {
            "_view_name": "LayoutView",
            "grid_template_rows": null,
            "right": null,
            "justify_content": null,
            "_view_module": "@jupyter-widgets/base",
            "overflow": null,
            "_model_module_version": "1.2.0",
            "_view_count": null,
            "flex_flow": null,
            "width": null,
            "min_width": null,
            "border": null,
            "align_items": null,
            "bottom": null,
            "_model_module": "@jupyter-widgets/base",
            "top": null,
            "grid_column": null,
            "overflow_y": null,
            "overflow_x": null,
            "grid_auto_flow": null,
            "grid_area": null,
            "grid_template_columns": null,
            "flex": null,
            "_model_name": "LayoutModel",
            "justify_items": null,
            "grid_row": null,
            "max_height": null,
            "align_content": null,
            "visibility": null,
            "align_self": null,
            "height": null,
            "min_height": null,
            "padding": null,
            "grid_auto_rows": null,
            "grid_gap": null,
            "max_width": null,
            "order": null,
            "_view_module_version": "1.2.0",
            "grid_template_areas": null,
            "object_position": null,
            "object_fit": null,
            "grid_auto_columns": null,
            "margin": null,
            "display": null,
            "left": null
          }
        },
        "b37aacebcb6d4a8ea25d27b30a5de372": {
          "model_module": "@jupyter-widgets/controls",
          "model_name": "HBoxModel",
          "state": {
            "_view_name": "HBoxView",
            "_dom_classes": [],
            "_model_name": "HBoxModel",
            "_view_module": "@jupyter-widgets/controls",
            "_model_module_version": "1.5.0",
            "_view_count": null,
            "_view_module_version": "1.5.0",
            "box_style": "",
            "layout": "IPY_MODEL_bd12bf512bce45899517a69c06f3d460",
            "_model_module": "@jupyter-widgets/controls",
            "children": [
              "IPY_MODEL_739da95722f944f2a625f082f6ecd646",
              "IPY_MODEL_d60c0310de9045138a73c0df455df904"
            ]
          }
        },
        "bd12bf512bce45899517a69c06f3d460": {
          "model_module": "@jupyter-widgets/base",
          "model_name": "LayoutModel",
          "state": {
            "_view_name": "LayoutView",
            "grid_template_rows": null,
            "right": null,
            "justify_content": null,
            "_view_module": "@jupyter-widgets/base",
            "overflow": null,
            "_model_module_version": "1.2.0",
            "_view_count": null,
            "flex_flow": null,
            "width": null,
            "min_width": null,
            "border": null,
            "align_items": null,
            "bottom": null,
            "_model_module": "@jupyter-widgets/base",
            "top": null,
            "grid_column": null,
            "overflow_y": null,
            "overflow_x": null,
            "grid_auto_flow": null,
            "grid_area": null,
            "grid_template_columns": null,
            "flex": null,
            "_model_name": "LayoutModel",
            "justify_items": null,
            "grid_row": null,
            "max_height": null,
            "align_content": null,
            "visibility": null,
            "align_self": null,
            "height": null,
            "min_height": null,
            "padding": null,
            "grid_auto_rows": null,
            "grid_gap": null,
            "max_width": null,
            "order": null,
            "_view_module_version": "1.2.0",
            "grid_template_areas": null,
            "object_position": null,
            "object_fit": null,
            "grid_auto_columns": null,
            "margin": null,
            "display": null,
            "left": null
          }
        },
        "739da95722f944f2a625f082f6ecd646": {
          "model_module": "@jupyter-widgets/controls",
          "model_name": "IntProgressModel",
          "state": {
            "_view_name": "ProgressView",
            "style": "IPY_MODEL_3e4602c59b5341fea93685ee90d1ed4a",
            "_dom_classes": [],
            "description": "",
            "_model_name": "IntProgressModel",
            "bar_style": "success",
            "max": 3,
            "_view_module": "@jupyter-widgets/controls",
            "_model_module_version": "1.5.0",
            "value": 3,
            "_view_count": null,
            "_view_module_version": "1.5.0",
            "orientation": "horizontal",
            "min": 0,
            "description_tooltip": null,
            "_model_module": "@jupyter-widgets/controls",
            "layout": "IPY_MODEL_d0612eb7778e472497bf9c8e04483a33"
          }
        },
        "d60c0310de9045138a73c0df455df904": {
          "model_module": "@jupyter-widgets/controls",
          "model_name": "HTMLModel",
          "state": {
            "_view_name": "HTMLView",
            "style": "IPY_MODEL_c72222b4a9074eca95781a68c834a9a4",
            "_dom_classes": [],
            "description": "",
            "_model_name": "HTMLModel",
            "placeholder": "​",
            "_view_module": "@jupyter-widgets/controls",
            "_model_module_version": "1.5.0",
            "value": "100% 3/3 [10:21&lt;00:00, 236.42s/it]",
            "_view_count": null,
            "_view_module_version": "1.5.0",
            "description_tooltip": null,
            "_model_module": "@jupyter-widgets/controls",
            "layout": "IPY_MODEL_0e0f18c896814884960b7647b8cd406b"
          }
        },
        "3e4602c59b5341fea93685ee90d1ed4a": {
          "model_module": "@jupyter-widgets/controls",
          "model_name": "ProgressStyleModel",
          "state": {
            "_view_name": "StyleView",
            "_model_name": "ProgressStyleModel",
            "description_width": "",
            "_view_module": "@jupyter-widgets/base",
            "_model_module_version": "1.5.0",
            "_view_count": null,
            "_view_module_version": "1.2.0",
            "bar_color": null,
            "_model_module": "@jupyter-widgets/controls"
          }
        },
        "d0612eb7778e472497bf9c8e04483a33": {
          "model_module": "@jupyter-widgets/base",
          "model_name": "LayoutModel",
          "state": {
            "_view_name": "LayoutView",
            "grid_template_rows": null,
            "right": null,
            "justify_content": null,
            "_view_module": "@jupyter-widgets/base",
            "overflow": null,
            "_model_module_version": "1.2.0",
            "_view_count": null,
            "flex_flow": null,
            "width": null,
            "min_width": null,
            "border": null,
            "align_items": null,
            "bottom": null,
            "_model_module": "@jupyter-widgets/base",
            "top": null,
            "grid_column": null,
            "overflow_y": null,
            "overflow_x": null,
            "grid_auto_flow": null,
            "grid_area": null,
            "grid_template_columns": null,
            "flex": null,
            "_model_name": "LayoutModel",
            "justify_items": null,
            "grid_row": null,
            "max_height": null,
            "align_content": null,
            "visibility": null,
            "align_self": null,
            "height": null,
            "min_height": null,
            "padding": null,
            "grid_auto_rows": null,
            "grid_gap": null,
            "max_width": null,
            "order": null,
            "_view_module_version": "1.2.0",
            "grid_template_areas": null,
            "object_position": null,
            "object_fit": null,
            "grid_auto_columns": null,
            "margin": null,
            "display": null,
            "left": null
          }
        },
        "c72222b4a9074eca95781a68c834a9a4": {
          "model_module": "@jupyter-widgets/controls",
          "model_name": "DescriptionStyleModel",
          "state": {
            "_view_name": "StyleView",
            "_model_name": "DescriptionStyleModel",
            "description_width": "",
            "_view_module": "@jupyter-widgets/base",
            "_model_module_version": "1.5.0",
            "_view_count": null,
            "_view_module_version": "1.2.0",
            "_model_module": "@jupyter-widgets/controls"
          }
        },
        "0e0f18c896814884960b7647b8cd406b": {
          "model_module": "@jupyter-widgets/base",
          "model_name": "LayoutModel",
          "state": {
            "_view_name": "LayoutView",
            "grid_template_rows": null,
            "right": null,
            "justify_content": null,
            "_view_module": "@jupyter-widgets/base",
            "overflow": null,
            "_model_module_version": "1.2.0",
            "_view_count": null,
            "flex_flow": null,
            "width": null,
            "min_width": null,
            "border": null,
            "align_items": null,
            "bottom": null,
            "_model_module": "@jupyter-widgets/base",
            "top": null,
            "grid_column": null,
            "overflow_y": null,
            "overflow_x": null,
            "grid_auto_flow": null,
            "grid_area": null,
            "grid_template_columns": null,
            "flex": null,
            "_model_name": "LayoutModel",
            "justify_items": null,
            "grid_row": null,
            "max_height": null,
            "align_content": null,
            "visibility": null,
            "align_self": null,
            "height": null,
            "min_height": null,
            "padding": null,
            "grid_auto_rows": null,
            "grid_gap": null,
            "max_width": null,
            "order": null,
            "_view_module_version": "1.2.0",
            "grid_template_areas": null,
            "object_position": null,
            "object_fit": null,
            "grid_auto_columns": null,
            "margin": null,
            "display": null,
            "left": null
          }
        },
        "258877c8fcf0499cb1450b8e875662a6": {
          "model_module": "@jupyter-widgets/controls",
          "model_name": "HBoxModel",
          "state": {
            "_view_name": "HBoxView",
            "_dom_classes": [],
            "_model_name": "HBoxModel",
            "_view_module": "@jupyter-widgets/controls",
            "_model_module_version": "1.5.0",
            "_view_count": null,
            "_view_module_version": "1.5.0",
            "box_style": "",
            "layout": "IPY_MODEL_7e4a884cdaf34f5b862c2947c1620646",
            "_model_module": "@jupyter-widgets/controls",
            "children": [
              "IPY_MODEL_26dc625f66e341aea74423cc6b8bf393",
              "IPY_MODEL_596e5f71ec7244639e97469b0e77d18f"
            ]
          }
        },
        "7e4a884cdaf34f5b862c2947c1620646": {
          "model_module": "@jupyter-widgets/base",
          "model_name": "LayoutModel",
          "state": {
            "_view_name": "LayoutView",
            "grid_template_rows": null,
            "right": null,
            "justify_content": null,
            "_view_module": "@jupyter-widgets/base",
            "overflow": null,
            "_model_module_version": "1.2.0",
            "_view_count": null,
            "flex_flow": null,
            "width": null,
            "min_width": null,
            "border": null,
            "align_items": null,
            "bottom": null,
            "_model_module": "@jupyter-widgets/base",
            "top": null,
            "grid_column": null,
            "overflow_y": null,
            "overflow_x": null,
            "grid_auto_flow": null,
            "grid_area": null,
            "grid_template_columns": null,
            "flex": null,
            "_model_name": "LayoutModel",
            "justify_items": null,
            "grid_row": null,
            "max_height": null,
            "align_content": null,
            "visibility": null,
            "align_self": null,
            "height": null,
            "min_height": null,
            "padding": null,
            "grid_auto_rows": null,
            "grid_gap": null,
            "max_width": null,
            "order": null,
            "_view_module_version": "1.2.0",
            "grid_template_areas": null,
            "object_position": null,
            "object_fit": null,
            "grid_auto_columns": null,
            "margin": null,
            "display": null,
            "left": null
          }
        },
        "26dc625f66e341aea74423cc6b8bf393": {
          "model_module": "@jupyter-widgets/controls",
          "model_name": "IntProgressModel",
          "state": {
            "_view_name": "ProgressView",
            "style": "IPY_MODEL_f64bb68118154bf08491e9b150a5b9bb",
            "_dom_classes": [],
            "description": "",
            "_model_name": "IntProgressModel",
            "bar_style": "success",
            "max": 2,
            "_view_module": "@jupyter-widgets/controls",
            "_model_module_version": "1.5.0",
            "value": 2,
            "_view_count": null,
            "_view_module_version": "1.5.0",
            "orientation": "horizontal",
            "min": 0,
            "description_tooltip": null,
            "_model_module": "@jupyter-widgets/controls",
            "layout": "IPY_MODEL_b4cae047e66e4360868fcdcdc8ea92c0"
          }
        },
        "596e5f71ec7244639e97469b0e77d18f": {
          "model_module": "@jupyter-widgets/controls",
          "model_name": "HTMLModel",
          "state": {
            "_view_name": "HTMLView",
            "style": "IPY_MODEL_ac4fea4dcf1b4021b646d32ca937fa88",
            "_dom_classes": [],
            "description": "",
            "_model_name": "HTMLModel",
            "placeholder": "​",
            "_view_module": "@jupyter-widgets/controls",
            "_model_module_version": "1.5.0",
            "value": "100% 2/2 [22:36&lt;00:00, 678.80s/it]",
            "_view_count": null,
            "_view_module_version": "1.5.0",
            "description_tooltip": null,
            "_model_module": "@jupyter-widgets/controls",
            "layout": "IPY_MODEL_e9a07c3616ea4aa0b3e06fe6f2c460e5"
          }
        },
        "f64bb68118154bf08491e9b150a5b9bb": {
          "model_module": "@jupyter-widgets/controls",
          "model_name": "ProgressStyleModel",
          "state": {
            "_view_name": "StyleView",
            "_model_name": "ProgressStyleModel",
            "description_width": "",
            "_view_module": "@jupyter-widgets/base",
            "_model_module_version": "1.5.0",
            "_view_count": null,
            "_view_module_version": "1.2.0",
            "bar_color": null,
            "_model_module": "@jupyter-widgets/controls"
          }
        },
        "b4cae047e66e4360868fcdcdc8ea92c0": {
          "model_module": "@jupyter-widgets/base",
          "model_name": "LayoutModel",
          "state": {
            "_view_name": "LayoutView",
            "grid_template_rows": null,
            "right": null,
            "justify_content": null,
            "_view_module": "@jupyter-widgets/base",
            "overflow": null,
            "_model_module_version": "1.2.0",
            "_view_count": null,
            "flex_flow": null,
            "width": null,
            "min_width": null,
            "border": null,
            "align_items": null,
            "bottom": null,
            "_model_module": "@jupyter-widgets/base",
            "top": null,
            "grid_column": null,
            "overflow_y": null,
            "overflow_x": null,
            "grid_auto_flow": null,
            "grid_area": null,
            "grid_template_columns": null,
            "flex": null,
            "_model_name": "LayoutModel",
            "justify_items": null,
            "grid_row": null,
            "max_height": null,
            "align_content": null,
            "visibility": null,
            "align_self": null,
            "height": null,
            "min_height": null,
            "padding": null,
            "grid_auto_rows": null,
            "grid_gap": null,
            "max_width": null,
            "order": null,
            "_view_module_version": "1.2.0",
            "grid_template_areas": null,
            "object_position": null,
            "object_fit": null,
            "grid_auto_columns": null,
            "margin": null,
            "display": null,
            "left": null
          }
        },
        "ac4fea4dcf1b4021b646d32ca937fa88": {
          "model_module": "@jupyter-widgets/controls",
          "model_name": "DescriptionStyleModel",
          "state": {
            "_view_name": "StyleView",
            "_model_name": "DescriptionStyleModel",
            "description_width": "",
            "_view_module": "@jupyter-widgets/base",
            "_model_module_version": "1.5.0",
            "_view_count": null,
            "_view_module_version": "1.2.0",
            "_model_module": "@jupyter-widgets/controls"
          }
        },
        "e9a07c3616ea4aa0b3e06fe6f2c460e5": {
          "model_module": "@jupyter-widgets/base",
          "model_name": "LayoutModel",
          "state": {
            "_view_name": "LayoutView",
            "grid_template_rows": null,
            "right": null,
            "justify_content": null,
            "_view_module": "@jupyter-widgets/base",
            "overflow": null,
            "_model_module_version": "1.2.0",
            "_view_count": null,
            "flex_flow": null,
            "width": null,
            "min_width": null,
            "border": null,
            "align_items": null,
            "bottom": null,
            "_model_module": "@jupyter-widgets/base",
            "top": null,
            "grid_column": null,
            "overflow_y": null,
            "overflow_x": null,
            "grid_auto_flow": null,
            "grid_area": null,
            "grid_template_columns": null,
            "flex": null,
            "_model_name": "LayoutModel",
            "justify_items": null,
            "grid_row": null,
            "max_height": null,
            "align_content": null,
            "visibility": null,
            "align_self": null,
            "height": null,
            "min_height": null,
            "padding": null,
            "grid_auto_rows": null,
            "grid_gap": null,
            "max_width": null,
            "order": null,
            "_view_module_version": "1.2.0",
            "grid_template_areas": null,
            "object_position": null,
            "object_fit": null,
            "grid_auto_columns": null,
            "margin": null,
            "display": null,
            "left": null
          }
        },
        "50044ab1d97042738a0391a1945dc2e0": {
          "model_module": "@jupyter-widgets/controls",
          "model_name": "HBoxModel",
          "state": {
            "_view_name": "HBoxView",
            "_dom_classes": [],
            "_model_name": "HBoxModel",
            "_view_module": "@jupyter-widgets/controls",
            "_model_module_version": "1.5.0",
            "_view_count": null,
            "_view_module_version": "1.5.0",
            "box_style": "",
            "layout": "IPY_MODEL_02aa6efc671443bd847facf160ebce1e",
            "_model_module": "@jupyter-widgets/controls",
            "children": [
              "IPY_MODEL_169e33b810514d7db14ae13fc9218d7e",
              "IPY_MODEL_621ffc7f21a64713b4e5c5a72f9b81ae"
            ]
          }
        },
        "02aa6efc671443bd847facf160ebce1e": {
          "model_module": "@jupyter-widgets/base",
          "model_name": "LayoutModel",
          "state": {
            "_view_name": "LayoutView",
            "grid_template_rows": null,
            "right": null,
            "justify_content": null,
            "_view_module": "@jupyter-widgets/base",
            "overflow": null,
            "_model_module_version": "1.2.0",
            "_view_count": null,
            "flex_flow": null,
            "width": null,
            "min_width": null,
            "border": null,
            "align_items": null,
            "bottom": null,
            "_model_module": "@jupyter-widgets/base",
            "top": null,
            "grid_column": null,
            "overflow_y": null,
            "overflow_x": null,
            "grid_auto_flow": null,
            "grid_area": null,
            "grid_template_columns": null,
            "flex": null,
            "_model_name": "LayoutModel",
            "justify_items": null,
            "grid_row": null,
            "max_height": null,
            "align_content": null,
            "visibility": null,
            "align_self": null,
            "height": null,
            "min_height": null,
            "padding": null,
            "grid_auto_rows": null,
            "grid_gap": null,
            "max_width": null,
            "order": null,
            "_view_module_version": "1.2.0",
            "grid_template_areas": null,
            "object_position": null,
            "object_fit": null,
            "grid_auto_columns": null,
            "margin": null,
            "display": null,
            "left": null
          }
        },
        "169e33b810514d7db14ae13fc9218d7e": {
          "model_module": "@jupyter-widgets/controls",
          "model_name": "IntProgressModel",
          "state": {
            "_view_name": "ProgressView",
            "style": "IPY_MODEL_01d3654ed6104f0bbe37cf6e2ba8db24",
            "_dom_classes": [],
            "description": "",
            "_model_name": "IntProgressModel",
            "bar_style": "success",
            "max": 2,
            "_view_module": "@jupyter-widgets/controls",
            "_model_module_version": "1.5.0",
            "value": 2,
            "_view_count": null,
            "_view_module_version": "1.5.0",
            "orientation": "horizontal",
            "min": 0,
            "description_tooltip": null,
            "_model_module": "@jupyter-widgets/controls",
            "layout": "IPY_MODEL_6a2733ae176e4e9999c26286b6f371b9"
          }
        },
        "621ffc7f21a64713b4e5c5a72f9b81ae": {
          "model_module": "@jupyter-widgets/controls",
          "model_name": "HTMLModel",
          "state": {
            "_view_name": "HTMLView",
            "style": "IPY_MODEL_e9849f2a06d6464dbf8a6581a0efcbcc",
            "_dom_classes": [],
            "description": "",
            "_model_name": "HTMLModel",
            "placeholder": "​",
            "_view_module": "@jupyter-widgets/controls",
            "_model_module_version": "1.5.0",
            "value": "100% 2/2 [11:19&lt;00:00, 340.17s/it]",
            "_view_count": null,
            "_view_module_version": "1.5.0",
            "description_tooltip": null,
            "_model_module": "@jupyter-widgets/controls",
            "layout": "IPY_MODEL_2b4067802da845b081399effe136ca18"
          }
        },
        "01d3654ed6104f0bbe37cf6e2ba8db24": {
          "model_module": "@jupyter-widgets/controls",
          "model_name": "ProgressStyleModel",
          "state": {
            "_view_name": "StyleView",
            "_model_name": "ProgressStyleModel",
            "description_width": "",
            "_view_module": "@jupyter-widgets/base",
            "_model_module_version": "1.5.0",
            "_view_count": null,
            "_view_module_version": "1.2.0",
            "bar_color": null,
            "_model_module": "@jupyter-widgets/controls"
          }
        },
        "6a2733ae176e4e9999c26286b6f371b9": {
          "model_module": "@jupyter-widgets/base",
          "model_name": "LayoutModel",
          "state": {
            "_view_name": "LayoutView",
            "grid_template_rows": null,
            "right": null,
            "justify_content": null,
            "_view_module": "@jupyter-widgets/base",
            "overflow": null,
            "_model_module_version": "1.2.0",
            "_view_count": null,
            "flex_flow": null,
            "width": null,
            "min_width": null,
            "border": null,
            "align_items": null,
            "bottom": null,
            "_model_module": "@jupyter-widgets/base",
            "top": null,
            "grid_column": null,
            "overflow_y": null,
            "overflow_x": null,
            "grid_auto_flow": null,
            "grid_area": null,
            "grid_template_columns": null,
            "flex": null,
            "_model_name": "LayoutModel",
            "justify_items": null,
            "grid_row": null,
            "max_height": null,
            "align_content": null,
            "visibility": null,
            "align_self": null,
            "height": null,
            "min_height": null,
            "padding": null,
            "grid_auto_rows": null,
            "grid_gap": null,
            "max_width": null,
            "order": null,
            "_view_module_version": "1.2.0",
            "grid_template_areas": null,
            "object_position": null,
            "object_fit": null,
            "grid_auto_columns": null,
            "margin": null,
            "display": null,
            "left": null
          }
        },
        "e9849f2a06d6464dbf8a6581a0efcbcc": {
          "model_module": "@jupyter-widgets/controls",
          "model_name": "DescriptionStyleModel",
          "state": {
            "_view_name": "StyleView",
            "_model_name": "DescriptionStyleModel",
            "description_width": "",
            "_view_module": "@jupyter-widgets/base",
            "_model_module_version": "1.5.0",
            "_view_count": null,
            "_view_module_version": "1.2.0",
            "_model_module": "@jupyter-widgets/controls"
          }
        },
        "2b4067802da845b081399effe136ca18": {
          "model_module": "@jupyter-widgets/base",
          "model_name": "LayoutModel",
          "state": {
            "_view_name": "LayoutView",
            "grid_template_rows": null,
            "right": null,
            "justify_content": null,
            "_view_module": "@jupyter-widgets/base",
            "overflow": null,
            "_model_module_version": "1.2.0",
            "_view_count": null,
            "flex_flow": null,
            "width": null,
            "min_width": null,
            "border": null,
            "align_items": null,
            "bottom": null,
            "_model_module": "@jupyter-widgets/base",
            "top": null,
            "grid_column": null,
            "overflow_y": null,
            "overflow_x": null,
            "grid_auto_flow": null,
            "grid_area": null,
            "grid_template_columns": null,
            "flex": null,
            "_model_name": "LayoutModel",
            "justify_items": null,
            "grid_row": null,
            "max_height": null,
            "align_content": null,
            "visibility": null,
            "align_self": null,
            "height": null,
            "min_height": null,
            "padding": null,
            "grid_auto_rows": null,
            "grid_gap": null,
            "max_width": null,
            "order": null,
            "_view_module_version": "1.2.0",
            "grid_template_areas": null,
            "object_position": null,
            "object_fit": null,
            "grid_auto_columns": null,
            "margin": null,
            "display": null,
            "left": null
          }
        },
        "1c8315dc57ea4ae9ae95d3dc82e168ba": {
          "model_module": "@jupyter-widgets/controls",
          "model_name": "HBoxModel",
          "state": {
            "_view_name": "HBoxView",
            "_dom_classes": [],
            "_model_name": "HBoxModel",
            "_view_module": "@jupyter-widgets/controls",
            "_model_module_version": "1.5.0",
            "_view_count": null,
            "_view_module_version": "1.5.0",
            "box_style": "",
            "layout": "IPY_MODEL_c9ae30806d1748c08bcc9ec454aad80b",
            "_model_module": "@jupyter-widgets/controls",
            "children": [
              "IPY_MODEL_237e5c19e8314146b60f827022dfcd6a",
              "IPY_MODEL_f49c24c69b7e40d9a5f990ecaaf7979d"
            ]
          }
        },
        "c9ae30806d1748c08bcc9ec454aad80b": {
          "model_module": "@jupyter-widgets/base",
          "model_name": "LayoutModel",
          "state": {
            "_view_name": "LayoutView",
            "grid_template_rows": null,
            "right": null,
            "justify_content": null,
            "_view_module": "@jupyter-widgets/base",
            "overflow": null,
            "_model_module_version": "1.2.0",
            "_view_count": null,
            "flex_flow": null,
            "width": null,
            "min_width": null,
            "border": null,
            "align_items": null,
            "bottom": null,
            "_model_module": "@jupyter-widgets/base",
            "top": null,
            "grid_column": null,
            "overflow_y": null,
            "overflow_x": null,
            "grid_auto_flow": null,
            "grid_area": null,
            "grid_template_columns": null,
            "flex": null,
            "_model_name": "LayoutModel",
            "justify_items": null,
            "grid_row": null,
            "max_height": null,
            "align_content": null,
            "visibility": null,
            "align_self": null,
            "height": null,
            "min_height": null,
            "padding": null,
            "grid_auto_rows": null,
            "grid_gap": null,
            "max_width": null,
            "order": null,
            "_view_module_version": "1.2.0",
            "grid_template_areas": null,
            "object_position": null,
            "object_fit": null,
            "grid_auto_columns": null,
            "margin": null,
            "display": null,
            "left": null
          }
        },
        "237e5c19e8314146b60f827022dfcd6a": {
          "model_module": "@jupyter-widgets/controls",
          "model_name": "IntProgressModel",
          "state": {
            "_view_name": "ProgressView",
            "style": "IPY_MODEL_a74a4ff36851455ea7fbdb157e94accf",
            "_dom_classes": [],
            "description": "",
            "_model_name": "IntProgressModel",
            "bar_style": "success",
            "max": 2,
            "_view_module": "@jupyter-widgets/controls",
            "_model_module_version": "1.5.0",
            "value": 2,
            "_view_count": null,
            "_view_module_version": "1.5.0",
            "orientation": "horizontal",
            "min": 0,
            "description_tooltip": null,
            "_model_module": "@jupyter-widgets/controls",
            "layout": "IPY_MODEL_3ebce38bafce43b2b0a93d2d90bde3c2"
          }
        },
        "f49c24c69b7e40d9a5f990ecaaf7979d": {
          "model_module": "@jupyter-widgets/controls",
          "model_name": "HTMLModel",
          "state": {
            "_view_name": "HTMLView",
            "style": "IPY_MODEL_0cb2885af23f4f5e8ec3fbe164795dab",
            "_dom_classes": [],
            "description": "",
            "_model_name": "HTMLModel",
            "placeholder": "​",
            "_view_module": "@jupyter-widgets/controls",
            "_model_module_version": "1.5.0",
            "value": "100% 2/2 [11:17&lt;00:00, 338.96s/it]",
            "_view_count": null,
            "_view_module_version": "1.5.0",
            "description_tooltip": null,
            "_model_module": "@jupyter-widgets/controls",
            "layout": "IPY_MODEL_cd1b6f7fa7944c47a55190ceb186953d"
          }
        },
        "a74a4ff36851455ea7fbdb157e94accf": {
          "model_module": "@jupyter-widgets/controls",
          "model_name": "ProgressStyleModel",
          "state": {
            "_view_name": "StyleView",
            "_model_name": "ProgressStyleModel",
            "description_width": "",
            "_view_module": "@jupyter-widgets/base",
            "_model_module_version": "1.5.0",
            "_view_count": null,
            "_view_module_version": "1.2.0",
            "bar_color": null,
            "_model_module": "@jupyter-widgets/controls"
          }
        },
        "3ebce38bafce43b2b0a93d2d90bde3c2": {
          "model_module": "@jupyter-widgets/base",
          "model_name": "LayoutModel",
          "state": {
            "_view_name": "LayoutView",
            "grid_template_rows": null,
            "right": null,
            "justify_content": null,
            "_view_module": "@jupyter-widgets/base",
            "overflow": null,
            "_model_module_version": "1.2.0",
            "_view_count": null,
            "flex_flow": null,
            "width": null,
            "min_width": null,
            "border": null,
            "align_items": null,
            "bottom": null,
            "_model_module": "@jupyter-widgets/base",
            "top": null,
            "grid_column": null,
            "overflow_y": null,
            "overflow_x": null,
            "grid_auto_flow": null,
            "grid_area": null,
            "grid_template_columns": null,
            "flex": null,
            "_model_name": "LayoutModel",
            "justify_items": null,
            "grid_row": null,
            "max_height": null,
            "align_content": null,
            "visibility": null,
            "align_self": null,
            "height": null,
            "min_height": null,
            "padding": null,
            "grid_auto_rows": null,
            "grid_gap": null,
            "max_width": null,
            "order": null,
            "_view_module_version": "1.2.0",
            "grid_template_areas": null,
            "object_position": null,
            "object_fit": null,
            "grid_auto_columns": null,
            "margin": null,
            "display": null,
            "left": null
          }
        },
        "0cb2885af23f4f5e8ec3fbe164795dab": {
          "model_module": "@jupyter-widgets/controls",
          "model_name": "DescriptionStyleModel",
          "state": {
            "_view_name": "StyleView",
            "_model_name": "DescriptionStyleModel",
            "description_width": "",
            "_view_module": "@jupyter-widgets/base",
            "_model_module_version": "1.5.0",
            "_view_count": null,
            "_view_module_version": "1.2.0",
            "_model_module": "@jupyter-widgets/controls"
          }
        },
        "cd1b6f7fa7944c47a55190ceb186953d": {
          "model_module": "@jupyter-widgets/base",
          "model_name": "LayoutModel",
          "state": {
            "_view_name": "LayoutView",
            "grid_template_rows": null,
            "right": null,
            "justify_content": null,
            "_view_module": "@jupyter-widgets/base",
            "overflow": null,
            "_model_module_version": "1.2.0",
            "_view_count": null,
            "flex_flow": null,
            "width": null,
            "min_width": null,
            "border": null,
            "align_items": null,
            "bottom": null,
            "_model_module": "@jupyter-widgets/base",
            "top": null,
            "grid_column": null,
            "overflow_y": null,
            "overflow_x": null,
            "grid_auto_flow": null,
            "grid_area": null,
            "grid_template_columns": null,
            "flex": null,
            "_model_name": "LayoutModel",
            "justify_items": null,
            "grid_row": null,
            "max_height": null,
            "align_content": null,
            "visibility": null,
            "align_self": null,
            "height": null,
            "min_height": null,
            "padding": null,
            "grid_auto_rows": null,
            "grid_gap": null,
            "max_width": null,
            "order": null,
            "_view_module_version": "1.2.0",
            "grid_template_areas": null,
            "object_position": null,
            "object_fit": null,
            "grid_auto_columns": null,
            "margin": null,
            "display": null,
            "left": null
          }
        },
        "1246fa5261c34848ae3f17e599665c34": {
          "model_module": "@jupyter-widgets/controls",
          "model_name": "HBoxModel",
          "state": {
            "_view_name": "HBoxView",
            "_dom_classes": [],
            "_model_name": "HBoxModel",
            "_view_module": "@jupyter-widgets/controls",
            "_model_module_version": "1.5.0",
            "_view_count": null,
            "_view_module_version": "1.5.0",
            "box_style": "",
            "layout": "IPY_MODEL_194564ea2ecb43fd9b01b27b9f49cfd3",
            "_model_module": "@jupyter-widgets/controls",
            "children": [
              "IPY_MODEL_a9c86f47f4424671b49d8525b6512ae6",
              "IPY_MODEL_14a73963c2794245ba0d457df2835512"
            ]
          }
        },
        "194564ea2ecb43fd9b01b27b9f49cfd3": {
          "model_module": "@jupyter-widgets/base",
          "model_name": "LayoutModel",
          "state": {
            "_view_name": "LayoutView",
            "grid_template_rows": null,
            "right": null,
            "justify_content": null,
            "_view_module": "@jupyter-widgets/base",
            "overflow": null,
            "_model_module_version": "1.2.0",
            "_view_count": null,
            "flex_flow": null,
            "width": null,
            "min_width": null,
            "border": null,
            "align_items": null,
            "bottom": null,
            "_model_module": "@jupyter-widgets/base",
            "top": null,
            "grid_column": null,
            "overflow_y": null,
            "overflow_x": null,
            "grid_auto_flow": null,
            "grid_area": null,
            "grid_template_columns": null,
            "flex": null,
            "_model_name": "LayoutModel",
            "justify_items": null,
            "grid_row": null,
            "max_height": null,
            "align_content": null,
            "visibility": null,
            "align_self": null,
            "height": null,
            "min_height": null,
            "padding": null,
            "grid_auto_rows": null,
            "grid_gap": null,
            "max_width": null,
            "order": null,
            "_view_module_version": "1.2.0",
            "grid_template_areas": null,
            "object_position": null,
            "object_fit": null,
            "grid_auto_columns": null,
            "margin": null,
            "display": null,
            "left": null
          }
        },
        "a9c86f47f4424671b49d8525b6512ae6": {
          "model_module": "@jupyter-widgets/controls",
          "model_name": "IntProgressModel",
          "state": {
            "_view_name": "ProgressView",
            "style": "IPY_MODEL_9b0245a526e24c5ba350b41f3b5c5218",
            "_dom_classes": [],
            "description": "",
            "_model_name": "IntProgressModel",
            "bar_style": "success",
            "max": 2,
            "_view_module": "@jupyter-widgets/controls",
            "_model_module_version": "1.5.0",
            "value": 2,
            "_view_count": null,
            "_view_module_version": "1.5.0",
            "orientation": "horizontal",
            "min": 0,
            "description_tooltip": null,
            "_model_module": "@jupyter-widgets/controls",
            "layout": "IPY_MODEL_8ec940e62f5e4a7bae0a28b2f045e38b"
          }
        },
        "14a73963c2794245ba0d457df2835512": {
          "model_module": "@jupyter-widgets/controls",
          "model_name": "HTMLModel",
          "state": {
            "_view_name": "HTMLView",
            "style": "IPY_MODEL_217bb023ef2c4965b5d7e7ec010cc287",
            "_dom_classes": [],
            "description": "",
            "_model_name": "HTMLModel",
            "placeholder": "​",
            "_view_module": "@jupyter-widgets/controls",
            "_model_module_version": "1.5.0",
            "value": "100% 2/2 [11:21&lt;00:00, 340.34s/it]",
            "_view_count": null,
            "_view_module_version": "1.5.0",
            "description_tooltip": null,
            "_model_module": "@jupyter-widgets/controls",
            "layout": "IPY_MODEL_0f103ba2889a477fbd29002d4ae530bf"
          }
        },
        "9b0245a526e24c5ba350b41f3b5c5218": {
          "model_module": "@jupyter-widgets/controls",
          "model_name": "ProgressStyleModel",
          "state": {
            "_view_name": "StyleView",
            "_model_name": "ProgressStyleModel",
            "description_width": "",
            "_view_module": "@jupyter-widgets/base",
            "_model_module_version": "1.5.0",
            "_view_count": null,
            "_view_module_version": "1.2.0",
            "bar_color": null,
            "_model_module": "@jupyter-widgets/controls"
          }
        },
        "8ec940e62f5e4a7bae0a28b2f045e38b": {
          "model_module": "@jupyter-widgets/base",
          "model_name": "LayoutModel",
          "state": {
            "_view_name": "LayoutView",
            "grid_template_rows": null,
            "right": null,
            "justify_content": null,
            "_view_module": "@jupyter-widgets/base",
            "overflow": null,
            "_model_module_version": "1.2.0",
            "_view_count": null,
            "flex_flow": null,
            "width": null,
            "min_width": null,
            "border": null,
            "align_items": null,
            "bottom": null,
            "_model_module": "@jupyter-widgets/base",
            "top": null,
            "grid_column": null,
            "overflow_y": null,
            "overflow_x": null,
            "grid_auto_flow": null,
            "grid_area": null,
            "grid_template_columns": null,
            "flex": null,
            "_model_name": "LayoutModel",
            "justify_items": null,
            "grid_row": null,
            "max_height": null,
            "align_content": null,
            "visibility": null,
            "align_self": null,
            "height": null,
            "min_height": null,
            "padding": null,
            "grid_auto_rows": null,
            "grid_gap": null,
            "max_width": null,
            "order": null,
            "_view_module_version": "1.2.0",
            "grid_template_areas": null,
            "object_position": null,
            "object_fit": null,
            "grid_auto_columns": null,
            "margin": null,
            "display": null,
            "left": null
          }
        },
        "217bb023ef2c4965b5d7e7ec010cc287": {
          "model_module": "@jupyter-widgets/controls",
          "model_name": "DescriptionStyleModel",
          "state": {
            "_view_name": "StyleView",
            "_model_name": "DescriptionStyleModel",
            "description_width": "",
            "_view_module": "@jupyter-widgets/base",
            "_model_module_version": "1.5.0",
            "_view_count": null,
            "_view_module_version": "1.2.0",
            "_model_module": "@jupyter-widgets/controls"
          }
        },
        "0f103ba2889a477fbd29002d4ae530bf": {
          "model_module": "@jupyter-widgets/base",
          "model_name": "LayoutModel",
          "state": {
            "_view_name": "LayoutView",
            "grid_template_rows": null,
            "right": null,
            "justify_content": null,
            "_view_module": "@jupyter-widgets/base",
            "overflow": null,
            "_model_module_version": "1.2.0",
            "_view_count": null,
            "flex_flow": null,
            "width": null,
            "min_width": null,
            "border": null,
            "align_items": null,
            "bottom": null,
            "_model_module": "@jupyter-widgets/base",
            "top": null,
            "grid_column": null,
            "overflow_y": null,
            "overflow_x": null,
            "grid_auto_flow": null,
            "grid_area": null,
            "grid_template_columns": null,
            "flex": null,
            "_model_name": "LayoutModel",
            "justify_items": null,
            "grid_row": null,
            "max_height": null,
            "align_content": null,
            "visibility": null,
            "align_self": null,
            "height": null,
            "min_height": null,
            "padding": null,
            "grid_auto_rows": null,
            "grid_gap": null,
            "max_width": null,
            "order": null,
            "_view_module_version": "1.2.0",
            "grid_template_areas": null,
            "object_position": null,
            "object_fit": null,
            "grid_auto_columns": null,
            "margin": null,
            "display": null,
            "left": null
          }
        }
      }
    }
  },
  "cells": [
    {
      "cell_type": "markdown",
      "metadata": {
        "id": "iDeZdpkPD3J_",
        "colab_type": "text"
      },
      "source": [
        "# Objective\n",
        "* To do: \n",
        "    * Predict stock price in next day using long short term memory(LSTM)\n",
        "    * Given prices for the last N days, we do prediction for day N+1\n",
        "    * Here we split 3 years of data into train(60%), dev(20%) and test(20%)\n",
        "* Changes from oroginal approach: \n",
        "    * Instead of MinMaxScaler, here we use StandardScaler\n",
        "    * Instead of using the same mean and variance to do scaling for train, dev and test sets, we scale the train set to have mean 0 and var 1, and then whenever we do prediction on dev or test set we scale the previous N values to also have mean 0 and var 1 (ie. use the means and variances of the previous N values to do scaling. We do this for both feature columns and target columns)"
      ]
    },
    {
      "cell_type": "code",
      "metadata": {
        "id": "IiSJNy1jD6x5",
        "colab_type": "code",
        "colab": {
          "base_uri": "https://localhost:8080/",
          "height": 34
        },
        "outputId": "747b5c07-14d0-49c1-8bbc-aaee35d6efb9"
      },
      "source": [
        "from google.colab import drive\n",
        "drive.mount('/content/gdrive')"
      ],
      "execution_count": 1,
      "outputs": [
        {
          "output_type": "stream",
          "text": [
            "Drive already mounted at /content/gdrive; to attempt to forcibly remount, call drive.mount(\"/content/gdrive\", force_remount=True).\n"
          ],
          "name": "stdout"
        }
      ]
    },
    {
      "cell_type": "code",
      "metadata": {
        "id": "kMDLcoCKD3KB",
        "colab_type": "code",
        "colab": {
          "base_uri": "https://localhost:8080/",
          "height": 81
        },
        "outputId": "b6aa088c-ccc6-4941-9378-9fafde535490"
      },
      "source": [
        "%matplotlib inline\n",
        "import warnings\n",
        "warnings.filterwarnings('ignore')\n",
        "\n",
        "import math\n",
        "import matplotlib\n",
        "import numpy as np\n",
        "import pandas as pd\n",
        "import seaborn as sns\n",
        "import time\n",
        "\n",
        "from datetime import date\n",
        "from matplotlib import pyplot as plt\n",
        "from numpy.random import seed\n",
        "from pylab import rcParams\n",
        "from sklearn.metrics import mean_squared_error\n",
        "from tqdm import tqdm_notebook\n",
        "from sklearn.preprocessing import StandardScaler\n",
        "from tensorflow import set_random_seed\n",
        "from keras.models import Sequential\n",
        "from keras.layers import Dense, Dropout, LSTM\n",
        "from keras.utils import plot_model\n",
        "\n",
        "stk_path = '/content/gdrive/My Drive/data/AMZN.csv'\n",
        "test_size = 0.2                # proportion of dataset to be used as test set\n",
        "cv_size = 0.2                  # proportion of dataset to be used as cross-validation set\n",
        "\n",
        "N = 9                          # for feature at day t, we use lags from t-1, t-2, ..., t-N as features\n",
        "                               # initial value before tuning\n",
        "lstm_units=50                  # lstm param. initial value before tuning\n",
        "dropout_prob=1                 # lstm param. initial value before tuning\n",
        "optimizer='adam'               # lstm param. initial value before tuning\n",
        "epochs=1                       # lstm param. initial value before tuning\n",
        "batch_size=1                   # lstm param. initial value before tuning\n",
        "\n",
        "model_seed = 100\n",
        "\n",
        "fontsize = 14\n",
        "ticklabelsize = 14\n",
        "\n",
        "# Set seeds to ensure same output results\n",
        "seed(101)\n",
        "set_random_seed(model_seed)"
      ],
      "execution_count": 2,
      "outputs": [
        {
          "output_type": "display_data",
          "data": {
            "text/html": [
              "<p style=\"color: red;\">\n",
              "The default version of TensorFlow in Colab will soon switch to TensorFlow 2.x.<br>\n",
              "We recommend you <a href=\"https://www.tensorflow.org/guide/migrate\" target=\"_blank\">upgrade</a> now \n",
              "or ensure your notebook will continue to use TensorFlow 1.x via the <code>%tensorflow_version 1.x</code> magic:\n",
              "<a href=\"https://colab.research.google.com/notebooks/tensorflow_version.ipynb\" target=\"_blank\">more info</a>.</p>\n"
            ],
            "text/plain": [
              "<IPython.core.display.HTML object>"
            ]
          },
          "metadata": {
            "tags": []
          }
        },
        {
          "output_type": "stream",
          "text": [
            "Using TensorFlow backend.\n"
          ],
          "name": "stderr"
        }
      ]
    },
    {
      "cell_type": "markdown",
      "metadata": {
        "id": "GD1_eU6HD3KG",
        "colab_type": "text"
      },
      "source": [
        "# Common functions"
      ]
    },
    {
      "cell_type": "code",
      "metadata": {
        "id": "qaW4bzGxD3KH",
        "colab_type": "code",
        "colab": {}
      },
      "source": [
        "def get_mape(y_true, y_pred): \n",
        "    \"\"\"\n",
        "    Compute mean absolute percentage error (MAPE)\n",
        "    \"\"\"\n",
        "    y_true, y_pred = np.array(y_true), np.array(y_pred)\n",
        "    return np.mean(np.abs((y_true - y_pred) / y_true)) * 100\n",
        "\n",
        "def get_x_y(data, N, offset):\n",
        "    \"\"\"\n",
        "    Split data into x (features) and y (target)\n",
        "    \"\"\"\n",
        "    x, y = [], []\n",
        "    for i in range(offset, len(data)):\n",
        "        x.append(data[i-N:i])\n",
        "        y.append(data[i])\n",
        "    x = np.array(x)\n",
        "    y = np.array(y)\n",
        "    \n",
        "    return x, y\n",
        "\n",
        "def get_x_scaled_y(data, N, offset):\n",
        "    \"\"\"\n",
        "    Split data into x (features) and y (target)\n",
        "    We scale x to have mean 0 and std dev 1, and return this.\n",
        "    We do not scale y here.\n",
        "    Outputs\n",
        "        x_scaled : features used to predict y. Scaled such that each element has mean 0 and std dev 1\n",
        "        y        : target values. Not scaled\n",
        "        mu_list  : list of the means. Same length as x_scaled and y\n",
        "        std_list : list of the std devs. Same length as x_scaled and y\n",
        "    \"\"\"\n",
        "    x_scaled, y, mu_list, std_list = [], [], [], []\n",
        "    for i in range(offset, len(data)):\n",
        "        mu_list.append(np.mean(data[i-N:i]))\n",
        "        std_list.append(np.std(data[i-N:i]))\n",
        "        x_scaled.append((data[i-N:i]-mu_list[i-offset])/std_list[i-offset])\n",
        "        y.append(data[i])\n",
        "    x_scaled = np.array(x_scaled)\n",
        "    y = np.array(y)\n",
        "    \n",
        "    return x_scaled, y, mu_list, std_list\n",
        "\n",
        "def train_pred_eval_model(x_train_scaled, \\\n",
        "                          y_train_scaled, \\\n",
        "                          x_cv_scaled, \\\n",
        "                          y_cv, \\\n",
        "                          mu_cv_list, \\\n",
        "                          std_cv_list, \\\n",
        "                          lstm_units=50, \\\n",
        "                          dropout_prob=0.5, \\\n",
        "                          optimizer='adam', \\\n",
        "                          epochs=1, \\\n",
        "                          batch_size=1):\n",
        "    '''\n",
        "    Train model, do prediction, scale back to original range and do evaluation\n",
        "    Use LSTM here.\n",
        "    Returns rmse, mape and predicted values\n",
        "    Inputs\n",
        "        x_train_scaled  : e.g. x_train_scaled.shape=(451, 9, 1). Here we are using the past 9 values to predict the next value\n",
        "        y_train_scaled  : e.g. y_train_scaled.shape=(451, 1)\n",
        "        x_cv_scaled     : use this to do predictions \n",
        "        y_cv            : actual value of the predictions\n",
        "        mu_cv_list      : list of the means. Same length as x_scaled and y\n",
        "        std_cv_list     : list of the std devs. Same length as x_scaled and y \n",
        "        lstm_units      : lstm param\n",
        "        dropout_prob    : lstm param\n",
        "        optimizer       : lstm param\n",
        "        epochs          : lstm param\n",
        "        batch_size      : lstm param\n",
        "    Outputs\n",
        "        rmse            : root mean square error\n",
        "        mape            : mean absolute percentage error\n",
        "        est             : predictions\n",
        "    '''\n",
        "    # Create the LSTM network\n",
        "    model = Sequential()\n",
        "    model.add(LSTM(units=lstm_units, return_sequences=True, input_shape=(x_train_scaled.shape[1],1)))\n",
        "    model.add(Dropout(dropout_prob)) \n",
        "    model.add(LSTM(units=lstm_units))\n",
        "    model.add(Dropout(dropout_prob)) \n",
        "    model.add(Dense(1))\n",
        "\n",
        "    # Compile and fit the LSTM network\n",
        "    model.compile(loss='mean_squared_error', optimizer=optimizer)\n",
        "    model.fit(x_train_scaled, y_train_scaled, epochs=epochs, batch_size=batch_size, verbose=0)\n",
        "    \n",
        "    est_scaled = model.predict(x_cv_scaled)\n",
        "    est = (est_scaled * np.array(std_cv_list).reshape(-1,1)) + np.array(mu_cv_list).reshape(-1,1)\n",
        "\n",
        "    rmse = math.sqrt(mean_squared_error(y_cv, est))\n",
        "    mape = get_mape(y_cv, est)\n",
        "    \n",
        "    return rmse, mape, est"
      ],
      "execution_count": 0,
      "outputs": []
    },
    {
      "cell_type": "markdown",
      "metadata": {
        "id": "WImtzSlRD3KK",
        "colab_type": "text"
      },
      "source": [
        "# Load data"
      ]
    },
    {
      "cell_type": "code",
      "metadata": {
        "id": "qkatseqDD3KL",
        "colab_type": "code",
        "colab": {
          "base_uri": "https://localhost:8080/",
          "height": 195
        },
        "outputId": "32493419-f2a0-4541-87b8-0bd3ecd14f04"
      },
      "source": [
        "df = pd.read_csv(stk_path)\n",
        "\n",
        "# Convert Date column to datetime\n",
        "df.loc[:, 'Date'] = pd.to_datetime(df['Date'],format='%Y-%m-%d')\n",
        "\n",
        "# Change all column headings to be lower case, and remove spacing\n",
        "df.columns = [str(x).lower().replace(' ', '_') for x in df.columns]\n",
        "\n",
        "# Get month of each sample\n",
        "df['month'] = df['date'].dt.month\n",
        "df.rename(columns={'close': 'adj_close'}, inplace=True)\n",
        "# Sort by datetime\n",
        "df.sort_values(by='date', inplace=True, ascending=True)\n",
        "df = df.loc[df['date'].dt.year > 2014].reset_index(drop=True)\n",
        "\n",
        "df.head()"
      ],
      "execution_count": 4,
      "outputs": [
        {
          "output_type": "execute_result",
          "data": {
            "text/html": [
              "<div>\n",
              "<style scoped>\n",
              "    .dataframe tbody tr th:only-of-type {\n",
              "        vertical-align: middle;\n",
              "    }\n",
              "\n",
              "    .dataframe tbody tr th {\n",
              "        vertical-align: top;\n",
              "    }\n",
              "\n",
              "    .dataframe thead th {\n",
              "        text-align: right;\n",
              "    }\n",
              "</style>\n",
              "<table border=\"1\" class=\"dataframe\">\n",
              "  <thead>\n",
              "    <tr style=\"text-align: right;\">\n",
              "      <th></th>\n",
              "      <th>date</th>\n",
              "      <th>open</th>\n",
              "      <th>high</th>\n",
              "      <th>low</th>\n",
              "      <th>adj_close</th>\n",
              "      <th>volume</th>\n",
              "      <th>month</th>\n",
              "    </tr>\n",
              "  </thead>\n",
              "  <tbody>\n",
              "    <tr>\n",
              "      <th>0</th>\n",
              "      <td>2015-01-02</td>\n",
              "      <td>312.58</td>\n",
              "      <td>314.75</td>\n",
              "      <td>306.9601</td>\n",
              "      <td>308.52</td>\n",
              "      <td>2788101</td>\n",
              "      <td>1</td>\n",
              "    </tr>\n",
              "    <tr>\n",
              "      <th>1</th>\n",
              "      <td>2015-01-05</td>\n",
              "      <td>307.01</td>\n",
              "      <td>308.38</td>\n",
              "      <td>300.8500</td>\n",
              "      <td>302.19</td>\n",
              "      <td>2774231</td>\n",
              "      <td>1</td>\n",
              "    </tr>\n",
              "    <tr>\n",
              "      <th>2</th>\n",
              "      <td>2015-01-06</td>\n",
              "      <td>302.24</td>\n",
              "      <td>303.00</td>\n",
              "      <td>292.3800</td>\n",
              "      <td>295.29</td>\n",
              "      <td>3519034</td>\n",
              "      <td>1</td>\n",
              "    </tr>\n",
              "    <tr>\n",
              "      <th>3</th>\n",
              "      <td>2015-01-07</td>\n",
              "      <td>297.50</td>\n",
              "      <td>301.28</td>\n",
              "      <td>295.3300</td>\n",
              "      <td>298.42</td>\n",
              "      <td>2640349</td>\n",
              "      <td>1</td>\n",
              "    </tr>\n",
              "    <tr>\n",
              "      <th>4</th>\n",
              "      <td>2015-01-08</td>\n",
              "      <td>300.32</td>\n",
              "      <td>303.14</td>\n",
              "      <td>296.1100</td>\n",
              "      <td>300.46</td>\n",
              "      <td>3088398</td>\n",
              "      <td>1</td>\n",
              "    </tr>\n",
              "  </tbody>\n",
              "</table>\n",
              "</div>"
            ],
            "text/plain": [
              "        date    open    high       low  adj_close   volume  month\n",
              "0 2015-01-02  312.58  314.75  306.9601     308.52  2788101      1\n",
              "1 2015-01-05  307.01  308.38  300.8500     302.19  2774231      1\n",
              "2 2015-01-06  302.24  303.00  292.3800     295.29  3519034      1\n",
              "3 2015-01-07  297.50  301.28  295.3300     298.42  2640349      1\n",
              "4 2015-01-08  300.32  303.14  296.1100     300.46  3088398      1"
            ]
          },
          "metadata": {
            "tags": []
          },
          "execution_count": 4
        }
      ]
    },
    {
      "cell_type": "code",
      "metadata": {
        "id": "67yCMRyYD3KP",
        "colab_type": "code",
        "colab": {
          "base_uri": "https://localhost:8080/",
          "height": 554
        },
        "outputId": "01fd1101-a0e3-4b88-d69b-111e02d3a85f"
      },
      "source": [
        "# Plot adjusted close over time\n",
        "x = df['date']\n",
        "y = df['adj_close']\n",
        "\n",
        "plt.style.use('seaborn-whitegrid')\n",
        "fig, ax = plt.subplots(figsize=(15, 7))\n",
        "\n",
        "ax.set_title('Closing Price Vs. Time', color='#44546B', pad=50, fontsize=30)\n",
        "\n",
        "ax.tick_params('x', colors='#008080', labelsize=20, pad=20)\n",
        "ax.tick_params('y', colors='#008080', labelsize=20, pad=20)\n",
        "\n",
        "for i in ['right', 'top', 'left', 'bottom']:\n",
        "    ax.spines[i].set_visible(False)\n",
        "\n",
        "plt.grid(True, color='gray', alpha=0.4, linewidth=0.3)\n",
        "\n",
        "sns.lineplot(x, y, color='#44546B', linewidth=2, ax=ax)\n",
        "\n",
        "ax.set_xlabel('Date')\n",
        "ax.set_ylabel('USD')"
      ],
      "execution_count": 5,
      "outputs": [
        {
          "output_type": "execute_result",
          "data": {
            "text/plain": [
              "Text(0, 0.5, 'USD')"
            ]
          },
          "metadata": {
            "tags": []
          },
          "execution_count": 5
        },
        {
          "output_type": "display_data",
          "data": {
            "image/png": "[encoded data removed]",
            "text/plain": [
              "<Figure size 1080x504 with 1 Axes>"
            ]
          },
          "metadata": {
            "tags": []
          }
        }
      ]
    },
    {
      "cell_type": "markdown",
      "metadata": {
        "id": "yQPLjHx4D3KS",
        "colab_type": "text"
      },
      "source": [
        "# Split into train, dev and test sets"
      ]
    },
    {
      "cell_type": "markdown",
      "metadata": {
        "id": "QLB9ketND3KT",
        "colab_type": "text"
      },
      "source": [
        "We use lags up to N number of days to use as features."
      ]
    },
    {
      "cell_type": "code",
      "metadata": {
        "id": "dgoHO6cbD3KU",
        "colab_type": "code",
        "colab": {
          "base_uri": "https://localhost:8080/",
          "height": 140
        },
        "outputId": "95c46183-1c16-4065-c3a2-b7ac02826754"
      },
      "source": [
        "# Get sizes of each of the datasets\n",
        "num_cv = int(cv_size*len(df))\n",
        "num_test = int(test_size*len(df))\n",
        "num_train = len(df) - num_cv - num_test\n",
        "print(\"num_train = \" + str(num_train))\n",
        "print(\"num_cv = \" + str(num_cv))\n",
        "print(\"num_test = \" + str(num_test))\n",
        "\n",
        "# Split into train, cv, and test\n",
        "train = df[:num_train][['date', 'adj_close']]\n",
        "cv = df[num_train:num_train+num_cv][['date', 'adj_close']]\n",
        "train_cv = df[:num_train+num_cv][['date', 'adj_close']]\n",
        "test = df[num_train+num_cv:][['date', 'adj_close']]\n",
        "\n",
        "print(\"train.shape = \" + str(train.shape))\n",
        "print(\"cv.shape = \" + str(cv.shape))\n",
        "print(\"train_cv.shape = \" + str(train_cv.shape))\n",
        "print(\"test.shape = \" + str(test.shape))"
      ],
      "execution_count": 6,
      "outputs": [
        {
          "output_type": "stream",
          "text": [
            "num_train = 769\n",
            "num_cv = 255\n",
            "num_test = 255\n",
            "train.shape = (769, 2)\n",
            "cv.shape = (255, 2)\n",
            "train_cv.shape = (1024, 2)\n",
            "test.shape = (255, 2)\n"
          ],
          "name": "stdout"
        }
      ]
    },
    {
      "cell_type": "code",
      "metadata": {
        "id": "gNYo6VGqD3KY",
        "colab_type": "code",
        "colab": {
          "base_uri": "https://localhost:8080/",
          "height": 87
        },
        "outputId": "5ead6e19-1ab4-46d0-8740-10480c67485a"
      },
      "source": [
        "# Converting dataset into x_train and y_train\n",
        "# Here we only scale the train dataset, and not the entire dataset to prevent information leak\n",
        "scaler = StandardScaler()\n",
        "train_scaled = scaler.fit_transform(np.array(train['adj_close']).reshape(-1,1))\n",
        "print(\"scaler.mean_ = \" + str(scaler.mean_))\n",
        "print(\"scaler.var_ = \" + str(scaler.var_))\n",
        "\n",
        "# Split into x and y\n",
        "x_train_scaled, y_train_scaled = get_x_y(train_scaled, N, N)\n",
        "print(\"x_train_scaled.shape = \" + str(x_train_scaled.shape)) # (446, 7, 1)\n",
        "print(\"y_train_scaled.shape = \" + str(y_train_scaled.shape)) # (446, 1)"
      ],
      "execution_count": 7,
      "outputs": [
        {
          "output_type": "stream",
          "text": [
            "scaler.mean_ = [724.91475293]\n",
            "scaler.var_ = [55262.52542218]\n",
            "x_train_scaled.shape = (760, 9, 1)\n",
            "y_train_scaled.shape = (760, 1)\n"
          ],
          "name": "stdout"
        }
      ]
    },
    {
      "cell_type": "code",
      "metadata": {
        "scrolled": true,
        "id": "h9ikv_rfD3Kb",
        "colab_type": "code",
        "colab": {
          "base_uri": "https://localhost:8080/",
          "height": 87
        },
        "outputId": "ac275b8c-b4e0-4f29-a7a4-9f7677d6a825"
      },
      "source": [
        "# Scale the cv dataset\n",
        "# Split into x and y\n",
        "x_cv_scaled, y_cv, mu_cv_list, std_cv_list = get_x_scaled_y(np.array(train_cv['adj_close']).reshape(-1,1), N, num_train)\n",
        "print(\"x_cv_scaled.shape = \" + str(x_cv_scaled.shape))\n",
        "print(\"y_cv.shape = \" + str(y_cv.shape))\n",
        "print(\"len(mu_cv_list) = \" + str(len(mu_cv_list)))\n",
        "print(\"len(std_cv_list) = \" + str(len(std_cv_list)))"
      ],
      "execution_count": 8,
      "outputs": [
        {
          "output_type": "stream",
          "text": [
            "x_cv_scaled.shape = (255, 9, 1)\n",
            "y_cv.shape = (255, 1)\n",
            "len(mu_cv_list) = 255\n",
            "len(std_cv_list) = 255\n"
          ],
          "name": "stdout"
        }
      ]
    },
    {
      "cell_type": "code",
      "metadata": {
        "id": "EDOapLw1D3Kd",
        "colab_type": "code",
        "colab": {
          "base_uri": "https://localhost:8080/",
          "height": 52
        },
        "outputId": "327739a3-b29e-42cf-847e-6d229816f061"
      },
      "source": [
        "# Here we scale the train_cv set, for the final model\n",
        "scaler_final = StandardScaler()\n",
        "train_cv_scaled_final = scaler_final.fit_transform(np.array(train_cv['adj_close']).reshape(-1,1))\n",
        "print(\"scaler_final.mean_ = \" + str(scaler_final.mean_))\n",
        "print(\"scaler_final.var_ = \" + str(scaler_final.var_))\n",
        "\n",
        "# # Scale the test dataset\n",
        "# x_test_scaled, y_test, mu_test_list, std_test_list = get_x_scaled_y(np.array(df['adj_close']).reshape(-1,1), N, num_train+num_cv)\n",
        "# print(\"x_test_scaled.shape = \" + str(x_test_scaled.shape))\n",
        "# print(\"y_test.shape = \" + str(y_test.shape))\n",
        "# print(\"len(mu_test_list) = \" + str(len(mu_test_list)))\n",
        "# print(\"len(std_test_list) = \" + str(len(std_test_list)))"
      ],
      "execution_count": 9,
      "outputs": [
        {
          "output_type": "stream",
          "text": [
            "scaler_final.mean_ = [958.30816895]\n",
            "scaler_final.var_ = [213231.16066474]\n"
          ],
          "name": "stdout"
        }
      ]
    },
    {
      "cell_type": "markdown",
      "metadata": {
        "id": "JitPNsySD3Kh",
        "colab_type": "text"
      },
      "source": [
        "# Create and fit the LSTM network"
      ]
    },
    {
      "cell_type": "code",
      "metadata": {
        "id": "0agCRD3YD3Ki",
        "colab_type": "code",
        "colab": {
          "base_uri": "https://localhost:8080/",
          "height": 70
        },
        "outputId": "e3c51ae1-5428-40b8-d45a-6c1e2558a170"
      },
      "source": [
        "# Create the LSTM network\n",
        "model = Sequential()\n",
        "model.add(LSTM(units=lstm_units, return_sequences=True, input_shape=(x_train_scaled.shape[1],1)))\n",
        "model.add(Dropout(dropout_prob)) \n",
        "model.add(LSTM(units=lstm_units))\n",
        "model.add(Dropout(dropout_prob))\n",
        "model.add(Dense(1))\n",
        "\n",
        "model.compile(loss='mean_squared_error', optimizer=optimizer)\n",
        "model.fit(x_train_scaled, y_train_scaled, epochs=epochs, batch_size=batch_size, verbose=1)"
      ],
      "execution_count": 11,
      "outputs": [
        {
          "output_type": "stream",
          "text": [
            "Epoch 1/1\n",
            "760/760 [==============================] - 23s 30ms/step - loss: 0.0284\n"
          ],
          "name": "stdout"
        },
        {
          "output_type": "execute_result",
          "data": {
            "text/plain": [
              "<keras.callbacks.History at 0x7f8d34621b38>"
            ]
          },
          "metadata": {
            "tags": []
          },
          "execution_count": 11
        }
      ]
    },
    {
      "cell_type": "code",
      "metadata": {
        "id": "W8rbGGT-D3Kk",
        "colab_type": "code",
        "colab": {
          "base_uri": "https://localhost:8080/",
          "height": 334
        },
        "outputId": "2ea7abe2-20c9-4d64-ed47-a997c3ec0f1c"
      },
      "source": [
        "# Print model summary\n",
        "model.summary()"
      ],
      "execution_count": 12,
      "outputs": [
        {
          "output_type": "stream",
          "text": [
            "Model: \"sequential_2\"\n",
            "_________________________________________________________________\n",
            "Layer (type)                 Output Shape              Param #   \n",
            "=================================================================\n",
            "lstm_3 (LSTM)                (None, 9, 50)             10400     \n",
            "_________________________________________________________________\n",
            "dropout_3 (Dropout)          (None, 9, 50)             0         \n",
            "_________________________________________________________________\n",
            "lstm_4 (LSTM)                (None, 50)                20200     \n",
            "_________________________________________________________________\n",
            "dropout_4 (Dropout)          (None, 50)                0         \n",
            "_________________________________________________________________\n",
            "dense_2 (Dense)              (None, 1)                 51        \n",
            "=================================================================\n",
            "Total params: 30,651\n",
            "Trainable params: 30,651\n",
            "Non-trainable params: 0\n",
            "_________________________________________________________________\n"
          ],
          "name": "stdout"
        }
      ]
    },
    {
      "cell_type": "code",
      "metadata": {
        "id": "p3mrTMPoD3Ko",
        "colab_type": "code",
        "colab": {
          "base_uri": "https://localhost:8080/",
          "height": 750
        },
        "outputId": "c26674a3-170d-4f04-b457-401c9a822199"
      },
      "source": [
        "# Plot model and save to file\n",
        "from IPython.display import SVG\n",
        "from keras.utils import plot_model\n",
        "from keras.utils.vis_utils import model_to_dot\n",
        "plot_model(model, to_file='model.png')\n",
        "SVG(model_to_dot(model).create(prog='dot', format='svg'))"
      ],
      "execution_count": 13,
      "outputs": [
        {
          "output_type": "execute_result",
          "data": {
            "text/plain": [
              "<IPython.core.display.SVG object>"
            ],
            "image/svg+xml": "<svg height=\"547pt\" viewBox=\"0.00 0.00 172.00 410.00\" width=\"229pt\" xmlns=\"http://www.w3.org/2000/svg\" xmlns:xlink=\"http://www.w3.org/1999/xlink\">\n<g class=\"graph\" id=\"graph0\" transform=\"scale(1.3333 1.3333) rotate(0) translate(4 406)\">\n<title>G</title>\n<polygon fill=\"#ffffff\" points=\"-4,4 -4,-406 168,-406 168,4 -4,4\" stroke=\"transparent\"/>\n<!-- 140244447623040 -->\n<g class=\"node\" id=\"node1\">\n<title>140244447623040</title>\n<polygon fill=\"none\" points=\"0,-365.5 0,-401.5 164,-401.5 164,-365.5 0,-365.5\" stroke=\"#000000\"/>\n<text fill=\"#000000\" font-family=\"Times,serif\" font-size=\"14.00\" text-anchor=\"middle\" x=\"82\" y=\"-379.8\">lstm_3_input: InputLayer</text>\n</g>\n<!-- 140244447622424 -->\n<g class=\"node\" id=\"node2\">\n<title>140244447622424</title>\n<polygon fill=\"none\" points=\"31,-292.5 31,-328.5 133,-328.5 133,-292.5 31,-292.5\" stroke=\"#000000\"/>\n<text fill=\"#000000\" font-family=\"Times,serif\" font-size=\"14.00\" text-anchor=\"middle\" x=\"82\" y=\"-306.8\">lstm_3: LSTM</text>\n</g>\n<!-- 140244447623040&#45;&gt;140244447622424 -->\n<g class=\"edge\" id=\"edge1\">\n<title>140244447623040-&gt;140244447622424</title>\n<path d=\"M82,-365.4551C82,-357.3828 82,-347.6764 82,-338.6817\" fill=\"none\" stroke=\"#000000\"/>\n<polygon fill=\"#000000\" points=\"85.5001,-338.5903 82,-328.5904 78.5001,-338.5904 85.5001,-338.5903\" stroke=\"#000000\"/>\n</g>\n<!-- 140244447622536 -->\n<g class=\"node\" id=\"node3\">\n<title>140244447622536</title>\n<polygon fill=\"none\" points=\"15,-219.5 15,-255.5 149,-255.5 149,-219.5 15,-219.5\" stroke=\"#000000\"/>\n<text fill=\"#000000\" font-family=\"Times,serif\" font-size=\"14.00\" text-anchor=\"middle\" x=\"82\" y=\"-233.8\">dropout_3: Dropout</text>\n</g>\n<!-- 140244447622424&#45;&gt;140244447622536 -->\n<g class=\"edge\" id=\"edge2\">\n<title>140244447622424-&gt;140244447622536</title>\n<path d=\"M82,-292.4551C82,-284.3828 82,-274.6764 82,-265.6817\" fill=\"none\" stroke=\"#000000\"/>\n<polygon fill=\"#000000\" points=\"85.5001,-265.5903 82,-255.5904 78.5001,-265.5904 85.5001,-265.5903\" stroke=\"#000000\"/>\n</g>\n<!-- 140244447623600 -->\n<g class=\"node\" id=\"node4\">\n<title>140244447623600</title>\n<polygon fill=\"none\" points=\"31,-146.5 31,-182.5 133,-182.5 133,-146.5 31,-146.5\" stroke=\"#000000\"/>\n<text fill=\"#000000\" font-family=\"Times,serif\" font-size=\"14.00\" text-anchor=\"middle\" x=\"82\" y=\"-160.8\">lstm_4: LSTM</text>\n</g>\n<!-- 140244447622536&#45;&gt;140244447623600 -->\n<g class=\"edge\" id=\"edge3\">\n<title>140244447622536-&gt;140244447623600</title>\n<path d=\"M82,-219.4551C82,-211.3828 82,-201.6764 82,-192.6817\" fill=\"none\" stroke=\"#000000\"/>\n<polygon fill=\"#000000\" points=\"85.5001,-192.5903 82,-182.5904 78.5001,-192.5904 85.5001,-192.5903\" stroke=\"#000000\"/>\n</g>\n<!-- 140244447387544 -->\n<g class=\"node\" id=\"node5\">\n<title>140244447387544</title>\n<polygon fill=\"none\" points=\"15,-73.5 15,-109.5 149,-109.5 149,-73.5 15,-73.5\" stroke=\"#000000\"/>\n<text fill=\"#000000\" font-family=\"Times,serif\" font-size=\"14.00\" text-anchor=\"middle\" x=\"82\" y=\"-87.8\">dropout_4: Dropout</text>\n</g>\n<!-- 140244447623600&#45;&gt;140244447387544 -->\n<g class=\"edge\" id=\"edge4\">\n<title>140244447623600-&gt;140244447387544</title>\n<path d=\"M82,-146.4551C82,-138.3828 82,-128.6764 82,-119.6817\" fill=\"none\" stroke=\"#000000\"/>\n<polygon fill=\"#000000\" points=\"85.5001,-119.5903 82,-109.5904 78.5001,-119.5904 85.5001,-119.5903\" stroke=\"#000000\"/>\n</g>\n<!-- 140244447193856 -->\n<g class=\"node\" id=\"node6\">\n<title>140244447193856</title>\n<polygon fill=\"none\" points=\"28.5,-.5 28.5,-36.5 135.5,-36.5 135.5,-.5 28.5,-.5\" stroke=\"#000000\"/>\n<text fill=\"#000000\" font-family=\"Times,serif\" font-size=\"14.00\" text-anchor=\"middle\" x=\"82\" y=\"-14.8\">dense_2: Dense</text>\n</g>\n<!-- 140244447387544&#45;&gt;140244447193856 -->\n<g class=\"edge\" id=\"edge5\">\n<title>140244447387544-&gt;140244447193856</title>\n<path d=\"M82,-73.4551C82,-65.3828 82,-55.6764 82,-46.6817\" fill=\"none\" stroke=\"#000000\"/>\n<polygon fill=\"#000000\" points=\"85.5001,-46.5903 82,-36.5904 78.5001,-46.5904 85.5001,-46.5903\" stroke=\"#000000\"/>\n</g>\n</g>\n</svg>"
          },
          "metadata": {
            "tags": []
          },
          "execution_count": 13
        }
      ]
    },
    {
      "cell_type": "markdown",
      "metadata": {
        "id": "iNvnYYBBD3Kr",
        "colab_type": "text"
      },
      "source": [
        "# Predict on val set"
      ]
    },
    {
      "cell_type": "code",
      "metadata": {
        "id": "d_L-Vrb4D3Ks",
        "colab_type": "code",
        "colab": {
          "base_uri": "https://localhost:8080/",
          "height": 70
        },
        "outputId": "698840a5-3da3-4914-885f-f9c41af65e83"
      },
      "source": [
        "# Do prediction\n",
        "est_scaled = model.predict(x_cv_scaled)\n",
        "est = (est_scaled * np.array(std_cv_list).reshape(-1,1)) + np.array(mu_cv_list).reshape(-1,1)\n",
        "print(\"est.shape = \" + str(est.shape))\n",
        "\n",
        "# Calculate RMSE\n",
        "rmse_bef_tuning = math.sqrt(mean_squared_error(y_cv, est))\n",
        "print(\"RMSE = %0.3f\" % rmse_bef_tuning)\n",
        "\n",
        "# Calculate MAPE\n",
        "mape_pct_bef_tuning = get_mape(y_cv, est)\n",
        "print(\"MAPE = %0.3f%%\" % mape_pct_bef_tuning)"
      ],
      "execution_count": 14,
      "outputs": [
        {
          "output_type": "stream",
          "text": [
            "est.shape = (255, 1)\n",
            "RMSE = 64.153\n",
            "MAPE = 3.002%\n"
          ],
          "name": "stdout"
        }
      ]
    },
    {
      "cell_type": "code",
      "metadata": {
        "id": "sOBM423lD3Ku",
        "colab_type": "code",
        "colab": {
          "base_uri": "https://localhost:8080/",
          "height": 478
        },
        "outputId": "53af3dea-6d7b-416c-ea07-36d7c6c8b696"
      },
      "source": [
        "# Plot adjusted close over time\n",
        "rcParams['figure.figsize'] = 10, 8 # width 10, height 8\n",
        "\n",
        "est_df = pd.DataFrame({'est': est.reshape(-1), \n",
        "                       'y_cv': y_cv.reshape(-1),\n",
        "                       'date': cv['date']})\n",
        "\n",
        "ax = train.plot(x='date', y='adj_close', style='b-', grid=True)\n",
        "ax = cv.plot(x='date', y='adj_close', style='y-', grid=True, ax=ax)\n",
        "ax = test.plot(x='date', y='adj_close', style='g-', grid=True, ax=ax)\n",
        "ax = est_df.plot(x='date', y='est', style='r-', grid=True, ax=ax)\n",
        "ax.legend(['train', 'dev', 'test', 'est'])\n",
        "ax.set_xlabel(\"date\")\n",
        "ax.set_ylabel(\"USD\")"
      ],
      "execution_count": 15,
      "outputs": [
        {
          "output_type": "execute_result",
          "data": {
            "text/plain": [
              "Text(0, 0.5, 'USD')"
            ]
          },
          "metadata": {
            "tags": []
          },
          "execution_count": 15
        },
        {
          "output_type": "display_data",
          "data": {
            "image/png": "[encoded data removed]",
            "text/plain": [
              "<Figure size 720x576 with 1 Axes>"
            ]
          },
          "metadata": {
            "tags": []
          }
        }
      ]
    },
    {
      "cell_type": "markdown",
      "metadata": {
        "id": "v2K-trmHD3Ky",
        "colab_type": "text"
      },
      "source": [
        "# Tuning N (no. of days to use as features)"
      ]
    },
    {
      "cell_type": "code",
      "metadata": {
        "scrolled": false,
        "id": "p0H690QhD3Kz",
        "colab_type": "code",
        "colab": {
          "base_uri": "https://localhost:8080/",
          "height": 410,
          "referenced_widgets": [
            "476d71769912409f8b880bfb7f6309fb",
            "ac0f45b4dfa4493f8ad78f4ec3466bbe",
            "80ff66948a0c451a81468e18ed003528",
            "86af481fb2f241fab97f29f476a9d748",
            "8f8b736070fd46689101be362e1af4bd",
            "c8369be46bad4931aaf52564c46797fa",
            "474106af21354a0a93576c4761af6496",
            "68056c4a693b4c36b11675736956899a"
          ]
        },
        "outputId": "038eb852-063d-488e-8570-f03abfa782d3"
      },
      "source": [
        "param_label = 'N'\n",
        "param_list = range(15, 65, 5)\n",
        "\n",
        "error_rate = {param_label: [], 'rmse': [], 'mape_pct': []}\n",
        "tic = time.time()\n",
        "for param in tqdm_notebook(param_list):\n",
        "    \n",
        "    # Split train into x and y\n",
        "    x_train_scaled, y_train_scaled = get_x_y(train_scaled, param, param)\n",
        "\n",
        "    # Split cv into x and y\n",
        "    x_cv_scaled, y_cv, mu_cv_list, std_cv_list = get_x_scaled_y(np.array(train_cv['adj_close']).reshape(-1,1), param, num_train)\n",
        "    \n",
        "    # Train, predict and eval model\n",
        "    rmse, mape, _ = train_pred_eval_model(x_train_scaled, \\\n",
        "                                          y_train_scaled, \\\n",
        "                                          x_cv_scaled, \\\n",
        "                                          y_cv, \\\n",
        "                                          mu_cv_list, \\\n",
        "                                          std_cv_list, \\\n",
        "                                          lstm_units=lstm_units, \\\n",
        "                                          dropout_prob=dropout_prob, \\\n",
        "                                          optimizer=optimizer, \\\n",
        "                                          epochs=epochs, \\\n",
        "                                          batch_size=batch_size)\n",
        "    \n",
        "    # Collect results\n",
        "    error_rate[param_label].append(param)\n",
        "    error_rate['rmse'].append(rmse)\n",
        "    error_rate['mape_pct'].append(mape)\n",
        "    \n",
        "error_rate = pd.DataFrame(error_rate)\n",
        "toc = time.time()\n",
        "print(\"Minutes taken = \" + str((toc-tic)/60.0))\n",
        "error_rate   "
      ],
      "execution_count": 16,
      "outputs": [
        {
          "output_type": "display_data",
          "data": {
            "application/vnd.jupyter.widget-view+json": {
              "model_id": "476d71769912409f8b880bfb7f6309fb",
              "version_minor": 0,
              "version_major": 2
            },
            "text/plain": [
              "HBox(children=(IntProgress(value=0, max=10), HTML(value='')))"
            ]
          },
          "metadata": {
            "tags": []
          }
        },
        {
          "output_type": "stream",
          "text": [
            "\n",
            "Minutes taken = 13.976123642921447\n"
          ],
          "name": "stdout"
        },
        {
          "output_type": "execute_result",
          "data": {
            "text/html": [
              "<div>\n",
              "<style scoped>\n",
              "    .dataframe tbody tr th:only-of-type {\n",
              "        vertical-align: middle;\n",
              "    }\n",
              "\n",
              "    .dataframe tbody tr th {\n",
              "        vertical-align: top;\n",
              "    }\n",
              "\n",
              "    .dataframe thead th {\n",
              "        text-align: right;\n",
              "    }\n",
              "</style>\n",
              "<table border=\"1\" class=\"dataframe\">\n",
              "  <thead>\n",
              "    <tr style=\"text-align: right;\">\n",
              "      <th></th>\n",
              "      <th>N</th>\n",
              "      <th>rmse</th>\n",
              "      <th>mape_pct</th>\n",
              "    </tr>\n",
              "  </thead>\n",
              "  <tbody>\n",
              "    <tr>\n",
              "      <th>0</th>\n",
              "      <td>15</td>\n",
              "      <td>64.561605</td>\n",
              "      <td>3.021668</td>\n",
              "    </tr>\n",
              "    <tr>\n",
              "      <th>1</th>\n",
              "      <td>20</td>\n",
              "      <td>64.595567</td>\n",
              "      <td>3.002356</td>\n",
              "    </tr>\n",
              "    <tr>\n",
              "      <th>2</th>\n",
              "      <td>25</td>\n",
              "      <td>62.043549</td>\n",
              "      <td>2.891425</td>\n",
              "    </tr>\n",
              "    <tr>\n",
              "      <th>3</th>\n",
              "      <td>30</td>\n",
              "      <td>63.636475</td>\n",
              "      <td>2.946747</td>\n",
              "    </tr>\n",
              "    <tr>\n",
              "      <th>4</th>\n",
              "      <td>35</td>\n",
              "      <td>64.545571</td>\n",
              "      <td>2.994894</td>\n",
              "    </tr>\n",
              "    <tr>\n",
              "      <th>5</th>\n",
              "      <td>40</td>\n",
              "      <td>64.068204</td>\n",
              "      <td>2.966627</td>\n",
              "    </tr>\n",
              "    <tr>\n",
              "      <th>6</th>\n",
              "      <td>45</td>\n",
              "      <td>67.111178</td>\n",
              "      <td>3.161262</td>\n",
              "    </tr>\n",
              "    <tr>\n",
              "      <th>7</th>\n",
              "      <td>50</td>\n",
              "      <td>64.360002</td>\n",
              "      <td>3.011932</td>\n",
              "    </tr>\n",
              "    <tr>\n",
              "      <th>8</th>\n",
              "      <td>55</td>\n",
              "      <td>64.629100</td>\n",
              "      <td>3.003598</td>\n",
              "    </tr>\n",
              "    <tr>\n",
              "      <th>9</th>\n",
              "      <td>60</td>\n",
              "      <td>68.403133</td>\n",
              "      <td>3.268446</td>\n",
              "    </tr>\n",
              "  </tbody>\n",
              "</table>\n",
              "</div>"
            ],
            "text/plain": [
              "    N       rmse  mape_pct\n",
              "0  15  64.561605  3.021668\n",
              "1  20  64.595567  3.002356\n",
              "2  25  62.043549  2.891425\n",
              "3  30  63.636475  2.946747\n",
              "4  35  64.545571  2.994894\n",
              "5  40  64.068204  2.966627\n",
              "6  45  67.111178  3.161262\n",
              "7  50  64.360002  3.011932\n",
              "8  55  64.629100  3.003598\n",
              "9  60  68.403133  3.268446"
            ]
          },
          "metadata": {
            "tags": []
          },
          "execution_count": 16
        }
      ]
    },
    {
      "cell_type": "code",
      "metadata": {
        "scrolled": false,
        "id": "TWoRlaOID3K2",
        "colab_type": "code",
        "colab": {
          "base_uri": "https://localhost:8080/",
          "height": 510
        },
        "outputId": "f8c634b9-45b3-4e28-a49c-581a48116a9e"
      },
      "source": [
        "# Plot RMSE \n",
        "rcParams['figure.figsize'] = 10, 8 \n",
        "\n",
        "ax = error_rate.plot(x='N', y='rmse', style='bx-', grid=True)\n",
        "ax = error_rate.plot(x='N', y='mape_pct', style='rx-', grid=True, ax=ax)\n",
        "ax.set_xlabel(\"N\")\n",
        "ax.set_ylabel(\"RMSE/MAPE(%)\")"
      ],
      "execution_count": 17,
      "outputs": [
        {
          "output_type": "execute_result",
          "data": {
            "text/plain": [
              "Text(0, 0.5, 'RMSE/MAPE(%)')"
            ]
          },
          "metadata": {
            "tags": []
          },
          "execution_count": 17
        },
        {
          "output_type": "display_data",
          "data": {
            "image/png": "[encoded data removed]",
            "text/plain": [
              "<Figure size 720x576 with 1 Axes>"
            ]
          },
          "metadata": {
            "tags": []
          }
        }
      ]
    },
    {
      "cell_type": "code",
      "metadata": {
        "id": "cpchAswJD3K5",
        "colab_type": "code",
        "colab": {
          "base_uri": "https://localhost:8080/",
          "height": 70
        },
        "outputId": "59e423ef-809e-4bf5-8f49-53e651d1f973"
      },
      "source": [
        "# Get optimum value for param\n",
        "temp = error_rate[error_rate['rmse'] == error_rate['rmse'].min()]\n",
        "N_opt = temp['N'].values[0]\n",
        "print(\"min RMSE = %0.3f\" % error_rate['rmse'].min())\n",
        "print(\"min MAPE = %0.3f%%\" % error_rate['mape_pct'].min())\n",
        "print(\"optimum \" + param_label + \" = \" + str(N_opt))"
      ],
      "execution_count": 18,
      "outputs": [
        {
          "output_type": "stream",
          "text": [
            "min RMSE = 62.044\n",
            "min MAPE = 2.891%\n",
            "optimum N = 25\n"
          ],
          "name": "stdout"
        }
      ]
    },
    {
      "cell_type": "markdown",
      "metadata": {
        "id": "KMqSpv8aD3K7",
        "colab_type": "text"
      },
      "source": [
        "# Tuning model - epochs and batch_size"
      ]
    },
    {
      "cell_type": "code",
      "metadata": {
        "scrolled": true,
        "id": "zXloSI2aD3K8",
        "colab_type": "code",
        "colab": {
          "base_uri": "https://localhost:8080/",
          "height": 356,
          "referenced_widgets": [
            "cf61b9d8e72248e8b47e92159ebd5c3b",
            "eb5fe42019c9462cbc0551a99edb026f",
            "9e8a49adf4cb4210a80c65c34eda18eb",
            "2d25e1d08783410892ce06758036d5a1",
            "45f4c73b63994192a349cda7b37a2df1",
            "c2aab409271149bba0f77e33eacf5653",
            "61f10e79478341b686ed6cb5412e5190",
            "dd35dfc0f4154b9e953a1135eec087cf",
            "f52aa38f0d0d47f2bb648314f543e726",
            "bba861c4683540a2ac4ee129713a2b25",
            "1f142fbab1574b63aa416ebde3f148f2",
            "d74c3cb4d6e748ef9098f2ea43860631",
            "5f4da8b7478846b3899ec79c81723f48",
            "196ac25f29624c27b57879bf16519d60",
            "3775340734ba4813a3376d7b0f47caf6",
            "bd6742da050b40e08f853509a96db34f",
            "b37aacebcb6d4a8ea25d27b30a5de372",
            "bd12bf512bce45899517a69c06f3d460",
            "739da95722f944f2a625f082f6ecd646",
            "d60c0310de9045138a73c0df455df904",
            "3e4602c59b5341fea93685ee90d1ed4a",
            "d0612eb7778e472497bf9c8e04483a33",
            "c72222b4a9074eca95781a68c834a9a4",
            "0e0f18c896814884960b7647b8cd406b"
          ]
        },
        "outputId": "38520941-134e-46e2-faab-005be6e1e27a"
      },
      "source": [
        "param_label = 'epochs'\n",
        "param_list = [30, 50]\n",
        "\n",
        "param2_label = 'batch_size'\n",
        "param2_list = [8, 16, 32]\n",
        "\n",
        "# Split train into x and y\n",
        "x_train_scaled, y_train_scaled = get_x_y(train_scaled, N_opt, N_opt)\n",
        "\n",
        "# Split cv into x and y\n",
        "x_cv_scaled, y_cv, mu_cv_list, std_cv_list = get_x_scaled_y(np.array(train_cv['adj_close']).reshape(-1,1), N_opt, num_train)\n",
        "\n",
        "error_rate = {param_label: [], param2_label: [], 'rmse': [], 'mape_pct': []}\n",
        "tic = time.time()\n",
        "for param in tqdm_notebook(param_list):\n",
        "    \n",
        "    for param2 in tqdm_notebook(param2_list):\n",
        "    \n",
        "        # Train, predict and eval model\n",
        "        rmse, mape, _ = train_pred_eval_model(x_train_scaled, \\\n",
        "                                              y_train_scaled, \\\n",
        "                                              x_cv_scaled, \\\n",
        "                                              y_cv, \\\n",
        "                                              mu_cv_list, \\\n",
        "                                              std_cv_list, \\\n",
        "                                              lstm_units=lstm_units, \\\n",
        "                                              dropout_prob=dropout_prob, \\\n",
        "                                              optimizer=optimizer, \\\n",
        "                                              epochs=param, \\\n",
        "                                              batch_size=param2)\n",
        "    \n",
        "        # Collect results\n",
        "        error_rate[param_label].append(param)\n",
        "        error_rate[param2_label].append(param2)\n",
        "        error_rate['rmse'].append(rmse)\n",
        "        error_rate['mape_pct'].append(mape)\n",
        "    \n",
        "error_rate = pd.DataFrame(error_rate)\n",
        "toc = time.time()\n",
        "print(\"Minutes taken = \" + str((toc-tic)/60.0))\n",
        "error_rate   "
      ],
      "execution_count": 19,
      "outputs": [
        {
          "output_type": "display_data",
          "data": {
            "application/vnd.jupyter.widget-view+json": {
              "model_id": "cf61b9d8e72248e8b47e92159ebd5c3b",
              "version_minor": 0,
              "version_major": 2
            },
            "text/plain": [
              "HBox(children=(IntProgress(value=0, max=2), HTML(value='')))"
            ]
          },
          "metadata": {
            "tags": []
          }
        },
        {
          "output_type": "display_data",
          "data": {
            "application/vnd.jupyter.widget-view+json": {
              "model_id": "f52aa38f0d0d47f2bb648314f543e726",
              "version_minor": 0,
              "version_major": 2
            },
            "text/plain": [
              "HBox(children=(IntProgress(value=0, max=3), HTML(value='')))"
            ]
          },
          "metadata": {
            "tags": []
          }
        },
        {
          "output_type": "display_data",
          "data": {
            "application/vnd.jupyter.widget-view+json": {
              "model_id": "b37aacebcb6d4a8ea25d27b30a5de372",
              "version_minor": 0,
              "version_major": 2
            },
            "text/plain": [
              "HBox(children=(IntProgress(value=0, max=3), HTML(value='')))"
            ]
          },
          "metadata": {
            "tags": []
          }
        },
        {
          "output_type": "stream",
          "text": [
            "\n",
            "Minutes taken = 16.622529141108195\n"
          ],
          "name": "stdout"
        },
        {
          "output_type": "execute_result",
          "data": {
            "text/html": [
              "<div>\n",
              "<style scoped>\n",
              "    .dataframe tbody tr th:only-of-type {\n",
              "        vertical-align: middle;\n",
              "    }\n",
              "\n",
              "    .dataframe tbody tr th {\n",
              "        vertical-align: top;\n",
              "    }\n",
              "\n",
              "    .dataframe thead th {\n",
              "        text-align: right;\n",
              "    }\n",
              "</style>\n",
              "<table border=\"1\" class=\"dataframe\">\n",
              "  <thead>\n",
              "    <tr style=\"text-align: right;\">\n",
              "      <th></th>\n",
              "      <th>epochs</th>\n",
              "      <th>batch_size</th>\n",
              "      <th>rmse</th>\n",
              "      <th>mape_pct</th>\n",
              "    </tr>\n",
              "  </thead>\n",
              "  <tbody>\n",
              "    <tr>\n",
              "      <th>0</th>\n",
              "      <td>30</td>\n",
              "      <td>8</td>\n",
              "      <td>41.184167</td>\n",
              "      <td>1.863116</td>\n",
              "    </tr>\n",
              "    <tr>\n",
              "      <th>1</th>\n",
              "      <td>30</td>\n",
              "      <td>16</td>\n",
              "      <td>49.808755</td>\n",
              "      <td>2.316147</td>\n",
              "    </tr>\n",
              "    <tr>\n",
              "      <th>2</th>\n",
              "      <td>30</td>\n",
              "      <td>32</td>\n",
              "      <td>63.417296</td>\n",
              "      <td>2.927193</td>\n",
              "    </tr>\n",
              "    <tr>\n",
              "      <th>3</th>\n",
              "      <td>50</td>\n",
              "      <td>8</td>\n",
              "      <td>37.915471</td>\n",
              "      <td>1.707209</td>\n",
              "    </tr>\n",
              "    <tr>\n",
              "      <th>4</th>\n",
              "      <td>50</td>\n",
              "      <td>16</td>\n",
              "      <td>38.730405</td>\n",
              "      <td>1.737804</td>\n",
              "    </tr>\n",
              "    <tr>\n",
              "      <th>5</th>\n",
              "      <td>50</td>\n",
              "      <td>32</td>\n",
              "      <td>52.105582</td>\n",
              "      <td>2.431061</td>\n",
              "    </tr>\n",
              "  </tbody>\n",
              "</table>\n",
              "</div>"
            ],
            "text/plain": [
              "   epochs  batch_size       rmse  mape_pct\n",
              "0      30           8  41.184167  1.863116\n",
              "1      30          16  49.808755  2.316147\n",
              "2      30          32  63.417296  2.927193\n",
              "3      50           8  37.915471  1.707209\n",
              "4      50          16  38.730405  1.737804\n",
              "5      50          32  52.105582  2.431061"
            ]
          },
          "metadata": {
            "tags": []
          },
          "execution_count": 19
        }
      ]
    },
    {
      "cell_type": "code",
      "metadata": {
        "id": "IprOgI3sD3K_",
        "colab_type": "code",
        "colab": {
          "base_uri": "https://localhost:8080/",
          "height": 510
        },
        "outputId": "bf4c7933-6db4-42d1-fa3a-d6590c8cd89b"
      },
      "source": [
        "# Plot performance versus params\n",
        "rcParams['figure.figsize'] = 10, 8\n",
        "temp = error_rate[error_rate[param2_label]==param2_list[0]]\n",
        "ax = temp.plot(x=param_label, y='rmse', style='bs-', grid=True)\n",
        "legend_list = [param2_label + '_' + str(param2_list[0])]\n",
        "\n",
        "color_list = ['r', 'g', 'k', '0.75']\n",
        "for i in range(1,len(param2_list)):\n",
        "    temp = error_rate[error_rate[param2_label]==param2_list[i]]\n",
        "    ax = temp.plot(x=param_label, y='rmse', color=color_list[i%len(color_list)], marker='s', grid=True, ax=ax)\n",
        "    legend_list.append(param2_label + '_' + str(param2_list[i]))\n",
        "\n",
        "ax.set_xlabel(param_label)\n",
        "ax.set_ylabel(\"RMSE\")\n",
        "matplotlib.rcParams.update({'font.size': 14})\n",
        "plt.legend(legend_list, loc='center left', bbox_to_anchor=(1.0, 0.5)) # positions legend outside figure\n",
        "# ax.set_xlim([10, 50])\n",
        "# ax.set_ylim([0, 5])"
      ],
      "execution_count": 20,
      "outputs": [
        {
          "output_type": "execute_result",
          "data": {
            "text/plain": [
              "<matplotlib.legend.Legend at 0x7f8d2f7157f0>"
            ]
          },
          "metadata": {
            "tags": []
          },
          "execution_count": 20
        },
        {
          "output_type": "display_data",
          "data": {
            "image/png": "[encoded data removed]",
            "text/plain": [
              "<Figure size 720x576 with 1 Axes>"
            ]
          },
          "metadata": {
            "tags": []
          }
        }
      ]
    },
    {
      "cell_type": "code",
      "metadata": {
        "id": "9fWDYTo5D3LC",
        "colab_type": "code",
        "colab": {
          "base_uri": "https://localhost:8080/",
          "height": 87
        },
        "outputId": "cd2451a3-64ec-4731-f8d0-60e8149df55e"
      },
      "source": [
        "# Get optimum value for param and param2\n",
        "temp = error_rate[error_rate['rmse'] == error_rate['rmse'].min()]\n",
        "epochs_opt = temp[param_label].values[0]\n",
        "batch_size_opt = temp[param2_label].values[0]\n",
        "print(\"min RMSE = %0.3f\" % error_rate['rmse'].min())\n",
        "print(\"min MAPE = %0.3f%%\" % error_rate['mape_pct'].min())\n",
        "print(\"optimum \" + param_label + \" = \" + str(epochs_opt))\n",
        "print(\"optimum \" + param2_label + \" = \" + str(batch_size_opt))"
      ],
      "execution_count": 21,
      "outputs": [
        {
          "output_type": "stream",
          "text": [
            "min RMSE = 37.915\n",
            "min MAPE = 1.707%\n",
            "optimum epochs = 50\n",
            "optimum batch_size = 8\n"
          ],
          "name": "stdout"
        }
      ]
    },
    {
      "cell_type": "markdown",
      "metadata": {
        "id": "4sD0SHCZD3LF",
        "colab_type": "text"
      },
      "source": [
        "# Tuning model - LSTM units and dropout prob"
      ]
    },
    {
      "cell_type": "code",
      "metadata": {
        "id": "o0ZHvt2-D3LG",
        "colab_type": "code",
        "colab": {
          "base_uri": "https://localhost:8080/",
          "height": 475,
          "referenced_widgets": [
            "258877c8fcf0499cb1450b8e875662a6",
            "7e4a884cdaf34f5b862c2947c1620646",
            "26dc625f66e341aea74423cc6b8bf393",
            "596e5f71ec7244639e97469b0e77d18f",
            "f64bb68118154bf08491e9b150a5b9bb",
            "b4cae047e66e4360868fcdcdc8ea92c0",
            "ac4fea4dcf1b4021b646d32ca937fa88",
            "e9a07c3616ea4aa0b3e06fe6f2c460e5",
            "50044ab1d97042738a0391a1945dc2e0",
            "02aa6efc671443bd847facf160ebce1e",
            "169e33b810514d7db14ae13fc9218d7e",
            "621ffc7f21a64713b4e5c5a72f9b81ae",
            "01d3654ed6104f0bbe37cf6e2ba8db24",
            "6a2733ae176e4e9999c26286b6f371b9",
            "e9849f2a06d6464dbf8a6581a0efcbcc",
            "2b4067802da845b081399effe136ca18",
            "1c8315dc57ea4ae9ae95d3dc82e168ba",
            "c9ae30806d1748c08bcc9ec454aad80b",
            "237e5c19e8314146b60f827022dfcd6a",
            "f49c24c69b7e40d9a5f990ecaaf7979d",
            "a74a4ff36851455ea7fbdb157e94accf",
            "3ebce38bafce43b2b0a93d2d90bde3c2",
            "0cb2885af23f4f5e8ec3fbe164795dab",
            "cd1b6f7fa7944c47a55190ceb186953d"
          ]
        },
        "outputId": "fc029c00-e694-43dc-c9ad-b8cba95801ca"
      },
      "source": [
        "param_label = 'lstm_units'\n",
        "param_list = [64, 128]\n",
        "\n",
        "param2_label = 'dropout_prob'\n",
        "param2_list = [0.5, 0.6]\n",
        "\n",
        "error_rate = {param_label: [], param2_label: [], 'rmse': [], 'mape_pct': []}\n",
        "tic = time.time()\n",
        "for param in tqdm_notebook(param_list):\n",
        "    \n",
        "    for param2 in tqdm_notebook(param2_list):\n",
        "    \n",
        "        # Train, predict and eval model\n",
        "        rmse, mape, _ = train_pred_eval_model(x_train_scaled, \\\n",
        "                                              y_train_scaled, \\\n",
        "                                              x_cv_scaled, \\\n",
        "                                              y_cv, \\\n",
        "                                              mu_cv_list, \\\n",
        "                                              std_cv_list, \\\n",
        "                                              lstm_units=param, \\\n",
        "                                              dropout_prob=param2, \\\n",
        "                                              optimizer=optimizer, \\\n",
        "                                              epochs=epochs_opt, \\\n",
        "                                              batch_size=batch_size_opt)\n",
        "    \n",
        "        # Collect results\n",
        "        error_rate[param_label].append(param)\n",
        "        error_rate[param2_label].append(param2)\n",
        "        error_rate['rmse'].append(rmse)\n",
        "        error_rate['mape_pct'].append(mape)\n",
        "    \n",
        "error_rate = pd.DataFrame(error_rate)\n",
        "toc = time.time()\n",
        "print(\"Minutes taken = \" + str((toc-tic)/60.0))\n",
        "error_rate   "
      ],
      "execution_count": 22,
      "outputs": [
        {
          "output_type": "display_data",
          "data": {
            "application/vnd.jupyter.widget-view+json": {
              "model_id": "258877c8fcf0499cb1450b8e875662a6",
              "version_minor": 0,
              "version_major": 2
            },
            "text/plain": [
              "HBox(children=(IntProgress(value=0, max=2), HTML(value='')))"
            ]
          },
          "metadata": {
            "tags": []
          }
        },
        {
          "output_type": "display_data",
          "data": {
            "application/vnd.jupyter.widget-view+json": {
              "model_id": "50044ab1d97042738a0391a1945dc2e0",
              "version_minor": 0,
              "version_major": 2
            },
            "text/plain": [
              "HBox(children=(IntProgress(value=0, max=2), HTML(value='')))"
            ]
          },
          "metadata": {
            "tags": []
          }
        },
        {
          "output_type": "stream",
          "text": [
            "WARNING:tensorflow:From /usr/local/lib/python3.6/dist-packages/keras/backend/tensorflow_backend.py:148: The name tf.placeholder_with_default is deprecated. Please use tf.compat.v1.placeholder_with_default instead.\n",
            "\n",
            "WARNING:tensorflow:From /usr/local/lib/python3.6/dist-packages/keras/backend/tensorflow_backend.py:3733: calling dropout (from tensorflow.python.ops.nn_ops) with keep_prob is deprecated and will be removed in a future version.\n",
            "Instructions for updating:\n",
            "Please use `rate` instead of `keep_prob`. Rate should be set to `rate = 1 - keep_prob`.\n",
            "WARNING:tensorflow:Large dropout rate: 0.6 (>0.5). In TensorFlow 2.x, dropout() uses dropout rate instead of keep_prob. Please ensure that this is intended.\n",
            "WARNING:tensorflow:Large dropout rate: 0.6 (>0.5). In TensorFlow 2.x, dropout() uses dropout rate instead of keep_prob. Please ensure that this is intended.\n"
          ],
          "name": "stdout"
        },
        {
          "output_type": "display_data",
          "data": {
            "application/vnd.jupyter.widget-view+json": {
              "model_id": "1c8315dc57ea4ae9ae95d3dc82e168ba",
              "version_minor": 0,
              "version_major": 2
            },
            "text/plain": [
              "HBox(children=(IntProgress(value=0, max=2), HTML(value='')))"
            ]
          },
          "metadata": {
            "tags": []
          }
        },
        {
          "output_type": "stream",
          "text": [
            "WARNING:tensorflow:Large dropout rate: 0.6 (>0.5). In TensorFlow 2.x, dropout() uses dropout rate instead of keep_prob. Please ensure that this is intended.\n",
            "WARNING:tensorflow:Large dropout rate: 0.6 (>0.5). In TensorFlow 2.x, dropout() uses dropout rate instead of keep_prob. Please ensure that this is intended.\n",
            "\n",
            "Minutes taken = 22.615643767515817\n"
          ],
          "name": "stdout"
        },
        {
          "output_type": "execute_result",
          "data": {
            "text/html": [
              "<div>\n",
              "<style scoped>\n",
              "    .dataframe tbody tr th:only-of-type {\n",
              "        vertical-align: middle;\n",
              "    }\n",
              "\n",
              "    .dataframe tbody tr th {\n",
              "        vertical-align: top;\n",
              "    }\n",
              "\n",
              "    .dataframe thead th {\n",
              "        text-align: right;\n",
              "    }\n",
              "</style>\n",
              "<table border=\"1\" class=\"dataframe\">\n",
              "  <thead>\n",
              "    <tr style=\"text-align: right;\">\n",
              "      <th></th>\n",
              "      <th>lstm_units</th>\n",
              "      <th>dropout_prob</th>\n",
              "      <th>rmse</th>\n",
              "      <th>mape_pct</th>\n",
              "    </tr>\n",
              "  </thead>\n",
              "  <tbody>\n",
              "    <tr>\n",
              "      <th>0</th>\n",
              "      <td>64</td>\n",
              "      <td>0.5</td>\n",
              "      <td>49.072916</td>\n",
              "      <td>2.279422</td>\n",
              "    </tr>\n",
              "    <tr>\n",
              "      <th>1</th>\n",
              "      <td>64</td>\n",
              "      <td>0.6</td>\n",
              "      <td>51.235493</td>\n",
              "      <td>2.397590</td>\n",
              "    </tr>\n",
              "    <tr>\n",
              "      <th>2</th>\n",
              "      <td>128</td>\n",
              "      <td>0.5</td>\n",
              "      <td>43.061272</td>\n",
              "      <td>2.014912</td>\n",
              "    </tr>\n",
              "    <tr>\n",
              "      <th>3</th>\n",
              "      <td>128</td>\n",
              "      <td>0.6</td>\n",
              "      <td>44.925377</td>\n",
              "      <td>2.095986</td>\n",
              "    </tr>\n",
              "  </tbody>\n",
              "</table>\n",
              "</div>"
            ],
            "text/plain": [
              "   lstm_units  dropout_prob       rmse  mape_pct\n",
              "0          64           0.5  49.072916  2.279422\n",
              "1          64           0.6  51.235493  2.397590\n",
              "2         128           0.5  43.061272  2.014912\n",
              "3         128           0.6  44.925377  2.095986"
            ]
          },
          "metadata": {
            "tags": []
          },
          "execution_count": 22
        }
      ]
    },
    {
      "cell_type": "code",
      "metadata": {
        "id": "8DIA3xvvD3LJ",
        "colab_type": "code",
        "colab": {
          "base_uri": "https://localhost:8080/",
          "height": 518
        },
        "outputId": "b079a170-c315-4571-f16c-275145a626bc"
      },
      "source": [
        "# Plot performance versus params\n",
        "rcParams['figure.figsize'] = 10, 8 # width 10, height 8\n",
        "temp = error_rate[error_rate[param2_label]==param2_list[0]]\n",
        "ax = temp.plot(x=param_label, y='rmse', style='bs-', grid=True)\n",
        "legend_list = [param2_label + '_' + str(param2_list[0])]\n",
        "\n",
        "color_list = ['r', 'g', 'k', '0.75']\n",
        "for i in range(1,len(param2_list)):\n",
        "    temp = error_rate[error_rate[param2_label]==param2_list[i]]\n",
        "    ax = temp.plot(x=param_label, y='rmse', color=color_list[i%len(color_list)], marker='s', grid=True, ax=ax)\n",
        "    legend_list.append(param2_label + '_' + str(param2_list[i]))\n",
        "\n",
        "ax.set_xlabel(param_label)\n",
        "ax.set_ylabel(\"RMSE\")\n",
        "matplotlib.rcParams.update({'font.size': 14})\n",
        "plt.legend(legend_list, loc='center left', bbox_to_anchor=(1.0, 0.5)) # positions legend outside figure"
      ],
      "execution_count": 23,
      "outputs": [
        {
          "output_type": "execute_result",
          "data": {
            "text/plain": [
              "<matplotlib.legend.Legend at 0x7f8d29402320>"
            ]
          },
          "metadata": {
            "tags": []
          },
          "execution_count": 23
        },
        {
          "output_type": "display_data",
          "data": {
            "image/png": "[encoded data removed]",
            "text/plain": [
              "<Figure size 720x576 with 1 Axes>"
            ]
          },
          "metadata": {
            "tags": []
          }
        }
      ]
    },
    {
      "cell_type": "code",
      "metadata": {
        "id": "gE81RzhwD3LL",
        "colab_type": "code",
        "colab": {
          "base_uri": "https://localhost:8080/",
          "height": 87
        },
        "outputId": "d9db7e57-9049-46fe-84ed-6c6e40750aca"
      },
      "source": [
        "# Get optimum value for param and param2\n",
        "temp = error_rate[error_rate['rmse'] == error_rate['rmse'].min()]\n",
        "lstm_units_opt = temp[param_label].values[0]\n",
        "dropout_prob_opt = temp[param2_label].values[0]\n",
        "print(\"min RMSE = %0.3f\" % error_rate['rmse'].min())\n",
        "print(\"min MAPE = %0.3f%%\" % error_rate['mape_pct'].min())\n",
        "print(\"optimum \" + param_label + \" = \" + str(lstm_units_opt))\n",
        "print(\"optimum \" + param2_label + \" = \" + str(dropout_prob_opt))"
      ],
      "execution_count": 24,
      "outputs": [
        {
          "output_type": "stream",
          "text": [
            "min RMSE = 43.061\n",
            "min MAPE = 2.015%\n",
            "optimum lstm_units = 128\n",
            "optimum dropout_prob = 0.5\n"
          ],
          "name": "stdout"
        }
      ]
    },
    {
      "cell_type": "markdown",
      "metadata": {
        "id": "hgU0hIQ-D3LO",
        "colab_type": "text"
      },
      "source": [
        "# Tuning model - optimizer"
      ]
    },
    {
      "cell_type": "code",
      "metadata": {
        "id": "UGQUo0N9D3LP",
        "colab_type": "code",
        "colab": {
          "base_uri": "https://localhost:8080/",
          "height": 174,
          "referenced_widgets": [
            "1246fa5261c34848ae3f17e599665c34",
            "194564ea2ecb43fd9b01b27b9f49cfd3",
            "a9c86f47f4424671b49d8525b6512ae6",
            "14a73963c2794245ba0d457df2835512",
            "9b0245a526e24c5ba350b41f3b5c5218",
            "8ec940e62f5e4a7bae0a28b2f045e38b",
            "217bb023ef2c4965b5d7e7ec010cc287",
            "0f103ba2889a477fbd29002d4ae530bf"
          ]
        },
        "outputId": "6fe4b92f-0f11-4cc2-dce6-47ad423e0fd3"
      },
      "source": [
        "param_label = 'optimizer'\n",
        "param_list = ['adam', 'nadam']\n",
        "\n",
        "error_rate = {param_label: [], 'rmse': [], 'mape_pct': []}\n",
        "tic = time.time()\n",
        "for param in tqdm_notebook(param_list):\n",
        "   \n",
        "    # Train, predict and eval model\n",
        "    rmse, mape, _ = train_pred_eval_model(x_train_scaled, \\\n",
        "                                          y_train_scaled, \\\n",
        "                                          x_cv_scaled, \\\n",
        "                                          y_cv, \\\n",
        "                                          mu_cv_list, \\\n",
        "                                          std_cv_list, \\\n",
        "                                          lstm_units=lstm_units_opt, \\\n",
        "                                          dropout_prob=dropout_prob_opt, \\\n",
        "                                          optimizer=param, \\\n",
        "                                          epochs=epochs_opt, \\\n",
        "                                          batch_size=batch_size_opt)\n",
        "    \n",
        "    # Collect results\n",
        "    error_rate[param_label].append(param)\n",
        "    error_rate['rmse'].append(rmse)\n",
        "    error_rate['mape_pct'].append(mape)\n",
        "    \n",
        "error_rate = pd.DataFrame(error_rate)\n",
        "toc = time.time()\n",
        "print(\"Minutes taken = \" + str((toc-tic)/60.0))\n",
        "error_rate   "
      ],
      "execution_count": 25,
      "outputs": [
        {
          "output_type": "display_data",
          "data": {
            "application/vnd.jupyter.widget-view+json": {
              "model_id": "1246fa5261c34848ae3f17e599665c34",
              "version_minor": 0,
              "version_major": 2
            },
            "text/plain": [
              "HBox(children=(IntProgress(value=0, max=2), HTML(value='')))"
            ]
          },
          "metadata": {
            "tags": []
          }
        },
        {
          "output_type": "stream",
          "text": [
            "\n",
            "Minutes taken = 11.352544883886972\n"
          ],
          "name": "stdout"
        },
        {
          "output_type": "execute_result",
          "data": {
            "text/html": [
              "<div>\n",
              "<style scoped>\n",
              "    .dataframe tbody tr th:only-of-type {\n",
              "        vertical-align: middle;\n",
              "    }\n",
              "\n",
              "    .dataframe tbody tr th {\n",
              "        vertical-align: top;\n",
              "    }\n",
              "\n",
              "    .dataframe thead th {\n",
              "        text-align: right;\n",
              "    }\n",
              "</style>\n",
              "<table border=\"1\" class=\"dataframe\">\n",
              "  <thead>\n",
              "    <tr style=\"text-align: right;\">\n",
              "      <th></th>\n",
              "      <th>optimizer</th>\n",
              "      <th>rmse</th>\n",
              "      <th>mape_pct</th>\n",
              "    </tr>\n",
              "  </thead>\n",
              "  <tbody>\n",
              "    <tr>\n",
              "      <th>0</th>\n",
              "      <td>adam</td>\n",
              "      <td>43.010328</td>\n",
              "      <td>2.011030</td>\n",
              "    </tr>\n",
              "    <tr>\n",
              "      <th>1</th>\n",
              "      <td>nadam</td>\n",
              "      <td>41.435090</td>\n",
              "      <td>1.893819</td>\n",
              "    </tr>\n",
              "  </tbody>\n",
              "</table>\n",
              "</div>"
            ],
            "text/plain": [
              "  optimizer       rmse  mape_pct\n",
              "0      adam  43.010328  2.011030\n",
              "1     nadam  41.435090  1.893819"
            ]
          },
          "metadata": {
            "tags": []
          },
          "execution_count": 25
        }
      ]
    },
    {
      "cell_type": "code",
      "metadata": {
        "id": "t8H8YM5OD3LR",
        "colab_type": "code",
        "colab": {
          "base_uri": "https://localhost:8080/",
          "height": 518
        },
        "outputId": "a4bb5e84-3c31-489a-864d-087eef9994e0"
      },
      "source": [
        "# Plot RMSE \n",
        "rcParams['figure.figsize'] = 10, 8 # width 10, height 8\n",
        "\n",
        "ax = error_rate.plot(x='optimizer', y='rmse', style='bx-', grid=True)\n",
        "ax = error_rate.plot(x='optimizer', y='mape_pct', style='rx-', grid=True, ax=ax)\n",
        "ax.set_xticklabels(param_list)\n",
        "ax.set_xlabel(\"Optimizer\")\n",
        "ax.set_ylabel(\"RMSE/MAPE(%)\")"
      ],
      "execution_count": 26,
      "outputs": [
        {
          "output_type": "execute_result",
          "data": {
            "text/plain": [
              "Text(0, 0.5, 'RMSE/MAPE(%)')"
            ]
          },
          "metadata": {
            "tags": []
          },
          "execution_count": 26
        },
        {
          "output_type": "display_data",
          "data": {
            "image/png": "[encoded data removed]",
            "text/plain": [
              "<Figure size 720x576 with 1 Axes>"
            ]
          },
          "metadata": {
            "tags": []
          }
        }
      ]
    },
    {
      "cell_type": "code",
      "metadata": {
        "id": "oHwRkReWD3LX",
        "colab_type": "code",
        "colab": {
          "base_uri": "https://localhost:8080/",
          "height": 70
        },
        "outputId": "631cd015-ebcb-4fc1-dfbc-1404b4c44fce"
      },
      "source": [
        "# Get optimum value for param and param2\n",
        "temp = error_rate[error_rate['rmse'] == error_rate['rmse'].min()]\n",
        "optimizer_opt = temp[param_label].values[0]\n",
        "print(\"min RMSE = %0.3f\" % error_rate['rmse'].min())\n",
        "print(\"min MAPE = %0.3f%%\" % error_rate['mape_pct'].min())\n",
        "print(\"optimum \" + param_label + \" = \" + str(optimizer_opt))"
      ],
      "execution_count": 27,
      "outputs": [
        {
          "output_type": "stream",
          "text": [
            "min RMSE = 41.435\n",
            "min MAPE = 1.894%\n",
            "optimum optimizer = nadam\n"
          ],
          "name": "stdout"
        }
      ]
    },
    {
      "cell_type": "markdown",
      "metadata": {
        "id": "7H6qlUtyD3La",
        "colab_type": "text"
      },
      "source": [
        "# Tuned params"
      ]
    },
    {
      "cell_type": "code",
      "metadata": {
        "id": "b9hW_BZ1D3Lb",
        "colab_type": "code",
        "colab": {
          "base_uri": "https://localhost:8080/",
          "height": 284
        },
        "outputId": "7be97c97-b6ff-475a-f542-da527315cb03"
      },
      "source": [
        "d = {'param': ['N', 'lstm_units', 'dropout_prob', 'optimizer', 'epochs', 'batch_size', 'rmse', 'mape_pct'],\n",
        "     'original': [N, lstm_units, dropout_prob, optimizer, epochs, batch_size, rmse_bef_tuning, mape_pct_bef_tuning],\n",
        "     'after_tuning': [N_opt, lstm_units_opt, dropout_prob_opt, optimizer_opt, epochs_opt, batch_size_opt, error_rate['rmse'].min(), error_rate['mape_pct'].min()]}\n",
        "tuned_params = pd.DataFrame(d)\n",
        "tuned_params"
      ],
      "execution_count": 28,
      "outputs": [
        {
          "output_type": "execute_result",
          "data": {
            "text/html": [
              "<div>\n",
              "<style scoped>\n",
              "    .dataframe tbody tr th:only-of-type {\n",
              "        vertical-align: middle;\n",
              "    }\n",
              "\n",
              "    .dataframe tbody tr th {\n",
              "        vertical-align: top;\n",
              "    }\n",
              "\n",
              "    .dataframe thead th {\n",
              "        text-align: right;\n",
              "    }\n",
              "</style>\n",
              "<table border=\"1\" class=\"dataframe\">\n",
              "  <thead>\n",
              "    <tr style=\"text-align: right;\">\n",
              "      <th></th>\n",
              "      <th>param</th>\n",
              "      <th>original</th>\n",
              "      <th>after_tuning</th>\n",
              "    </tr>\n",
              "  </thead>\n",
              "  <tbody>\n",
              "    <tr>\n",
              "      <th>0</th>\n",
              "      <td>N</td>\n",
              "      <td>9</td>\n",
              "      <td>25</td>\n",
              "    </tr>\n",
              "    <tr>\n",
              "      <th>1</th>\n",
              "      <td>lstm_units</td>\n",
              "      <td>50</td>\n",
              "      <td>128</td>\n",
              "    </tr>\n",
              "    <tr>\n",
              "      <th>2</th>\n",
              "      <td>dropout_prob</td>\n",
              "      <td>1</td>\n",
              "      <td>0.5</td>\n",
              "    </tr>\n",
              "    <tr>\n",
              "      <th>3</th>\n",
              "      <td>optimizer</td>\n",
              "      <td>adam</td>\n",
              "      <td>nadam</td>\n",
              "    </tr>\n",
              "    <tr>\n",
              "      <th>4</th>\n",
              "      <td>epochs</td>\n",
              "      <td>1</td>\n",
              "      <td>50</td>\n",
              "    </tr>\n",
              "    <tr>\n",
              "      <th>5</th>\n",
              "      <td>batch_size</td>\n",
              "      <td>1</td>\n",
              "      <td>8</td>\n",
              "    </tr>\n",
              "    <tr>\n",
              "      <th>6</th>\n",
              "      <td>rmse</td>\n",
              "      <td>64.1533</td>\n",
              "      <td>41.4351</td>\n",
              "    </tr>\n",
              "    <tr>\n",
              "      <th>7</th>\n",
              "      <td>mape_pct</td>\n",
              "      <td>3.00248</td>\n",
              "      <td>1.89382</td>\n",
              "    </tr>\n",
              "  </tbody>\n",
              "</table>\n",
              "</div>"
            ],
            "text/plain": [
              "          param original after_tuning\n",
              "0             N        9           25\n",
              "1    lstm_units       50          128\n",
              "2  dropout_prob        1          0.5\n",
              "3     optimizer     adam        nadam\n",
              "4        epochs        1           50\n",
              "5    batch_size        1            8\n",
              "6          rmse  64.1533      41.4351\n",
              "7      mape_pct  3.00248      1.89382"
            ]
          },
          "metadata": {
            "tags": []
          },
          "execution_count": 28
        }
      ]
    },
    {
      "cell_type": "markdown",
      "metadata": {
        "id": "piqJAYNVD3Le",
        "colab_type": "text"
      },
      "source": [
        "# Final model"
      ]
    },
    {
      "cell_type": "code",
      "metadata": {
        "id": "_mJNQH_UD3Le",
        "colab_type": "code",
        "colab": {
          "base_uri": "https://localhost:8080/",
          "height": 52
        },
        "outputId": "d2c51b82-8202-44a3-b31b-5f9c6eefbbd5"
      },
      "source": [
        "# Split train_cv into x and y\n",
        "x_train_cv_scaled, y_train_cv_scaled = get_x_y(train_cv_scaled_final, N_opt, N_opt)\n",
        "\n",
        "# Split test into x and y\n",
        "x_test_scaled, y_test, mu_test_list, std_test_list = get_x_scaled_y(np.array(df['adj_close']).reshape(-1,1), N_opt, num_train+num_cv)\n",
        "\n",
        "# Train, predict and eval model\n",
        "rmse, mape, est = train_pred_eval_model(x_train_cv_scaled, \\\n",
        "                                        y_train_cv_scaled, \\\n",
        "                                        x_test_scaled, \\\n",
        "                                        y_test, \\\n",
        "                                        mu_test_list, \\\n",
        "                                        std_test_list, \\\n",
        "                                        lstm_units=lstm_units_opt, \\\n",
        "                                        dropout_prob=dropout_prob_opt, \\\n",
        "                                        optimizer=optimizer_opt, \\\n",
        "                                        epochs=epochs_opt, \\\n",
        "                                        batch_size=batch_size_opt)\n",
        "\n",
        "# Calculate RMSE\n",
        "print(\"RMSE on test set = %0.3f\" % rmse)\n",
        "\n",
        "# Calculate MAPE\n",
        "print(\"MAPE on test set = %0.3f%%\" % mape)"
      ],
      "execution_count": 29,
      "outputs": [
        {
          "output_type": "stream",
          "text": [
            "RMSE on test set = 28.476\n",
            "MAPE on test set = 1.132%\n"
          ],
          "name": "stdout"
        }
      ]
    },
    {
      "cell_type": "code",
      "metadata": {
        "id": "U3iLGpeyD3Lh",
        "colab_type": "code",
        "colab": {
          "base_uri": "https://localhost:8080/",
          "height": 490
        },
        "outputId": "94c7d1be-ec84-42d7-d4c4-acb867522d8a"
      },
      "source": [
        "# Plot adjusted close over time\n",
        "rcParams['figure.figsize'] = 10, 8 # width 10, height 8\n",
        "\n",
        "est_df = pd.DataFrame({'est': est.reshape(-1), \n",
        "                       'date': df[num_train+num_cv:]['date']})\n",
        "\n",
        "ax = train.plot(x='date', y='adj_close', style='b-', grid=True)\n",
        "ax = cv.plot(x='date', y='adj_close', style='y-', grid=True, ax=ax)\n",
        "ax = test.plot(x='date', y='adj_close', style='g-', grid=True, ax=ax)\n",
        "ax = est_df.plot(x='date', y='est', style='r-', grid=True, ax=ax)\n",
        "ax.legend(['train', 'val', 'test', 'predictions'])\n",
        "ax.set_xlabel(\"date\")\n",
        "ax.set_ylabel(\"USD\")"
      ],
      "execution_count": 30,
      "outputs": [
        {
          "output_type": "execute_result",
          "data": {
            "text/plain": [
              "Text(0, 0.5, 'USD')"
            ]
          },
          "metadata": {
            "tags": []
          },
          "execution_count": 30
        },
        {
          "output_type": "display_data",
          "data": {
            "image/png": "[encoded data removed]",
            "text/plain": [
              "<Figure size 720x576 with 1 Axes>"
            ]
          },
          "metadata": {
            "tags": []
          }
        }
      ]
    },
    {
      "cell_type": "markdown",
      "metadata": {
        "collapsed": true,
        "id": "5M-jVDjsD3Lq",
        "colab_type": "text"
      },
      "source": [
        "# Findings\n",
        "* On the test set, the RMSE is 28.476"
      ]
    },
    {
      "cell_type": "code",
      "metadata": {
        "id": "07V8mI71D3Lr",
        "colab_type": "code",
        "colab": {}
      },
      "source": [
        ""
      ],
      "execution_count": 0,
      "outputs": []
    }
  ]
}